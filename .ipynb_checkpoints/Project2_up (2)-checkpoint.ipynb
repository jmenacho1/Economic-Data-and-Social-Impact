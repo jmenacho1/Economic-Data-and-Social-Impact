{
 "cells": [
  {
   "cell_type": "code",
   "execution_count": 345,
   "metadata": {},
   "outputs": [],
   "source": [
    "import pandas as pd\n",
    "import numpy as np\n",
    "import hvplot\n",
    "import plotly.graph_objects as go\n",
    "import warnings\n",
    "warnings.filterwarnings(\"ignore\")\n",
    "from sklearn.ensemble import RandomForestRegressor\n",
    "from sklearn.ensemble import GradientBoostingRegressor\n",
    "from sklearn.tree import DecisionTreeRegressor\n"
   ]
  },
  {
   "cell_type": "code",
   "execution_count": null,
   "metadata": {},
   "outputs": [],
   "source": []
  },
  {
   "cell_type": "code",
   "execution_count": 346,
   "metadata": {},
   "outputs": [],
   "source": [
    "data = pd.read_csv(\"NYPD_Shooting_Incident_Data__Historic_.csv\")\n",
    "data_year_tod = pd.read_csv(\"NYPD_Shooting_Incident_Data__Year_To_Date_.csv\")"
   ]
  },
  {
   "cell_type": "code",
   "execution_count": 347,
   "metadata": {},
   "outputs": [
    {
     "name": "stdout",
     "output_type": "stream",
     "text": [
      "In 2020, there are 664 incidents.\n"
     ]
    }
   ],
   "source": [
    "print(f\"In 2020, there are {data_year_tod.shape[0]} incidents.\")"
   ]
  },
  {
   "cell_type": "code",
   "execution_count": 348,
   "metadata": {},
   "outputs": [
    {
     "name": "stdout",
     "output_type": "stream",
     "text": [
      "Before 2020, there are 21626 incidents.\n"
     ]
    }
   ],
   "source": [
    "print(f\"Before 2020, there are {data.shape[0]} incidents.\")"
   ]
  },
  {
   "cell_type": "code",
   "execution_count": 349,
   "metadata": {},
   "outputs": [
    {
     "name": "stdout",
     "output_type": "stream",
     "text": [
      "After combining two datasets, there are 22290 incidents in total.\n"
     ]
    }
   ],
   "source": [
    "#combined two data sets( 2006 - 2020)\n",
    "df = pd.concat([data,data_year_tod],axis = 0)\n",
    "print(f\"After combining two datasets, there are {df.shape[0]} incidents in total.\")"
   ]
  },
  {
   "cell_type": "code",
   "execution_count": null,
   "metadata": {},
   "outputs": [],
   "source": []
  },
  {
   "cell_type": "code",
   "execution_count": 350,
   "metadata": {},
   "outputs": [
    {
     "data": {
      "text/plain": [
       "Index(['BORO', 'INCIDENT_KEY', 'JURISDICTION_CODE', 'LOCATION_DESC',\n",
       "       'Latitude', 'Lon_Lat', 'Longitude', 'New Georeferenced Column',\n",
       "       'OCCUR_DATE', 'OCCUR_TIME', 'PERP_AGE_GROUP', 'PERP_RACE', 'PERP_SEX',\n",
       "       'PRECINCT', 'STATISTICAL_MURDER_FLAG', 'VIC_AGE_GROUP', 'VIC_RACE',\n",
       "       'VIC_SEX', 'X_COORD_CD', 'Y_COORD_CD'],\n",
       "      dtype='object')"
      ]
     },
     "execution_count": 350,
     "metadata": {},
     "output_type": "execute_result"
    }
   ],
   "source": [
    "df.columns"
   ]
  },
  {
   "cell_type": "code",
   "execution_count": 351,
   "metadata": {},
   "outputs": [],
   "source": [
    "#Drop columns\n",
    "df.drop(columns= ['JURISDICTION_CODE', 'LOCATION_DESC','Latitude', 'Lon_Lat', 'Longitude', \n",
    "                  'New Georeferenced Column','PRECINCT','PERP_AGE_GROUP', 'PERP_RACE', 'PERP_SEX','X_COORD_CD', \n",
    "                  'Y_COORD_CD'],inplace = True)"
   ]
  },
  {
   "cell_type": "code",
   "execution_count": 352,
   "metadata": {},
   "outputs": [
    {
     "data": {
      "text/plain": [
       "Index(['BORO', 'INCIDENT_KEY', 'OCCUR_DATE', 'OCCUR_TIME',\n",
       "       'STATISTICAL_MURDER_FLAG', 'VIC_AGE_GROUP', 'VIC_RACE', 'VIC_SEX'],\n",
       "      dtype='object')"
      ]
     },
     "execution_count": 352,
     "metadata": {},
     "output_type": "execute_result"
    }
   ],
   "source": [
    "df.columns"
   ]
  },
  {
   "cell_type": "code",
   "execution_count": 353,
   "metadata": {},
   "outputs": [
    {
     "data": {
      "text/html": [
       "<div>\n",
       "<style scoped>\n",
       "    .dataframe tbody tr th:only-of-type {\n",
       "        vertical-align: middle;\n",
       "    }\n",
       "\n",
       "    .dataframe tbody tr th {\n",
       "        vertical-align: top;\n",
       "    }\n",
       "\n",
       "    .dataframe thead th {\n",
       "        text-align: right;\n",
       "    }\n",
       "</style>\n",
       "<table border=\"1\" class=\"dataframe\">\n",
       "  <thead>\n",
       "    <tr style=\"text-align: right;\">\n",
       "      <th></th>\n",
       "      <th>BORO</th>\n",
       "      <th>INCIDENT_KEY</th>\n",
       "      <th>OCCUR_DATE</th>\n",
       "      <th>OCCUR_TIME</th>\n",
       "      <th>STATISTICAL_MURDER_FLAG</th>\n",
       "      <th>VIC_AGE_GROUP</th>\n",
       "      <th>VIC_RACE</th>\n",
       "      <th>VIC_SEX</th>\n",
       "    </tr>\n",
       "  </thead>\n",
       "  <tbody>\n",
       "    <tr>\n",
       "      <th>0</th>\n",
       "      <td>QUEENS</td>\n",
       "      <td>74146165</td>\n",
       "      <td>08/14/2010</td>\n",
       "      <td>3:11:00</td>\n",
       "      <td>False</td>\n",
       "      <td>25-44</td>\n",
       "      <td>BLACK</td>\n",
       "      <td>M</td>\n",
       "    </tr>\n",
       "    <tr>\n",
       "      <th>1</th>\n",
       "      <td>BROOKLYN</td>\n",
       "      <td>66928846</td>\n",
       "      <td>10/17/2009</td>\n",
       "      <td>18:03:00</td>\n",
       "      <td>True</td>\n",
       "      <td>45-64</td>\n",
       "      <td>BLACK</td>\n",
       "      <td>M</td>\n",
       "    </tr>\n",
       "    <tr>\n",
       "      <th>2</th>\n",
       "      <td>BROOKLYN</td>\n",
       "      <td>29114164</td>\n",
       "      <td>05/18/2007</td>\n",
       "      <td>23:00:00</td>\n",
       "      <td>False</td>\n",
       "      <td>25-44</td>\n",
       "      <td>BLACK</td>\n",
       "      <td>M</td>\n",
       "    </tr>\n",
       "    <tr>\n",
       "      <th>3</th>\n",
       "      <td>BROOKLYN</td>\n",
       "      <td>85180336</td>\n",
       "      <td>06/09/2012</td>\n",
       "      <td>17:15:00</td>\n",
       "      <td>False</td>\n",
       "      <td>25-44</td>\n",
       "      <td>BLACK</td>\n",
       "      <td>M</td>\n",
       "    </tr>\n",
       "    <tr>\n",
       "      <th>4</th>\n",
       "      <td>BRONX</td>\n",
       "      <td>73405770</td>\n",
       "      <td>06/27/2010</td>\n",
       "      <td>4:14:00</td>\n",
       "      <td>False</td>\n",
       "      <td>25-44</td>\n",
       "      <td>BLACK</td>\n",
       "      <td>M</td>\n",
       "    </tr>\n",
       "  </tbody>\n",
       "</table>\n",
       "</div>"
      ],
      "text/plain": [
       "       BORO  INCIDENT_KEY  OCCUR_DATE OCCUR_TIME  STATISTICAL_MURDER_FLAG  \\\n",
       "0    QUEENS      74146165  08/14/2010    3:11:00                    False   \n",
       "1  BROOKLYN      66928846  10/17/2009   18:03:00                     True   \n",
       "2  BROOKLYN      29114164  05/18/2007   23:00:00                    False   \n",
       "3  BROOKLYN      85180336  06/09/2012   17:15:00                    False   \n",
       "4     BRONX      73405770  06/27/2010    4:14:00                    False   \n",
       "\n",
       "  VIC_AGE_GROUP VIC_RACE VIC_SEX  \n",
       "0         25-44    BLACK       M  \n",
       "1         45-64    BLACK       M  \n",
       "2         25-44    BLACK       M  \n",
       "3         25-44    BLACK       M  \n",
       "4         25-44    BLACK       M  "
      ]
     },
     "execution_count": 353,
     "metadata": {},
     "output_type": "execute_result"
    }
   ],
   "source": [
    "df.head()"
   ]
  },
  {
   "cell_type": "code",
   "execution_count": 354,
   "metadata": {},
   "outputs": [],
   "source": [
    "miss_check = pd.DataFrame({\"Number of Missing\":df.isnull().sum(),\n",
    "                           \"Percentage of Missing\":df.isnull().sum()/df.shape[0]})"
   ]
  },
  {
   "cell_type": "code",
   "execution_count": 355,
   "metadata": {},
   "outputs": [
    {
     "data": {
      "text/html": [
       "<div>\n",
       "<style scoped>\n",
       "    .dataframe tbody tr th:only-of-type {\n",
       "        vertical-align: middle;\n",
       "    }\n",
       "\n",
       "    .dataframe tbody tr th {\n",
       "        vertical-align: top;\n",
       "    }\n",
       "\n",
       "    .dataframe thead th {\n",
       "        text-align: right;\n",
       "    }\n",
       "</style>\n",
       "<table border=\"1\" class=\"dataframe\">\n",
       "  <thead>\n",
       "    <tr style=\"text-align: right;\">\n",
       "      <th></th>\n",
       "      <th>Number of Missing</th>\n",
       "      <th>Percentage of Missing</th>\n",
       "    </tr>\n",
       "  </thead>\n",
       "  <tbody>\n",
       "    <tr>\n",
       "      <th>BORO</th>\n",
       "      <td>0</td>\n",
       "      <td>0.0</td>\n",
       "    </tr>\n",
       "    <tr>\n",
       "      <th>INCIDENT_KEY</th>\n",
       "      <td>0</td>\n",
       "      <td>0.0</td>\n",
       "    </tr>\n",
       "    <tr>\n",
       "      <th>OCCUR_DATE</th>\n",
       "      <td>0</td>\n",
       "      <td>0.0</td>\n",
       "    </tr>\n",
       "    <tr>\n",
       "      <th>OCCUR_TIME</th>\n",
       "      <td>0</td>\n",
       "      <td>0.0</td>\n",
       "    </tr>\n",
       "    <tr>\n",
       "      <th>STATISTICAL_MURDER_FLAG</th>\n",
       "      <td>0</td>\n",
       "      <td>0.0</td>\n",
       "    </tr>\n",
       "    <tr>\n",
       "      <th>VIC_AGE_GROUP</th>\n",
       "      <td>0</td>\n",
       "      <td>0.0</td>\n",
       "    </tr>\n",
       "    <tr>\n",
       "      <th>VIC_RACE</th>\n",
       "      <td>0</td>\n",
       "      <td>0.0</td>\n",
       "    </tr>\n",
       "    <tr>\n",
       "      <th>VIC_SEX</th>\n",
       "      <td>0</td>\n",
       "      <td>0.0</td>\n",
       "    </tr>\n",
       "  </tbody>\n",
       "</table>\n",
       "</div>"
      ],
      "text/plain": [
       "                         Number of Missing  Percentage of Missing\n",
       "BORO                                     0                    0.0\n",
       "INCIDENT_KEY                             0                    0.0\n",
       "OCCUR_DATE                               0                    0.0\n",
       "OCCUR_TIME                               0                    0.0\n",
       "STATISTICAL_MURDER_FLAG                  0                    0.0\n",
       "VIC_AGE_GROUP                            0                    0.0\n",
       "VIC_RACE                                 0                    0.0\n",
       "VIC_SEX                                  0                    0.0"
      ]
     },
     "execution_count": 355,
     "metadata": {},
     "output_type": "execute_result"
    }
   ],
   "source": [
    "miss_check"
   ]
  },
  {
   "cell_type": "code",
   "execution_count": 356,
   "metadata": {},
   "outputs": [
    {
     "data": {
      "text/plain": [
       "(22290, 8)"
      ]
     },
     "execution_count": 356,
     "metadata": {},
     "output_type": "execute_result"
    }
   ],
   "source": [
    "df.shape"
   ]
  },
  {
   "cell_type": "code",
   "execution_count": 357,
   "metadata": {},
   "outputs": [],
   "source": [
    "miss_drop = df.dropna()"
   ]
  },
  {
   "cell_type": "code",
   "execution_count": 358,
   "metadata": {},
   "outputs": [],
   "source": [
    "# VIC_AGE transforming\n",
    "miss_drop['VIC_AGE_18'] = np.where(np.array(miss_drop['VIC_AGE_GROUP']) == \"<18\",1,0)\n",
    "miss_drop['VIC_AGE_18_24'] = np.where(np.array(miss_drop['VIC_AGE_GROUP']) == \"18-24\",1,0)\n",
    "miss_drop['VIC_AGE_25_44'] = np.where(np.array(miss_drop['VIC_AGE_GROUP']) == \"25-44\",1,0)\n",
    "miss_drop['VIC_AGE_45_64'] = np.where(np.array(miss_drop['VIC_AGE_GROUP']) == \"45-64\",1,0)\n",
    "miss_drop['VIC_AGE_65'] = np.where(np.array(miss_drop['VIC_AGE_GROUP']) == \"65+\",1,0)"
   ]
  },
  {
   "cell_type": "code",
   "execution_count": 359,
   "metadata": {},
   "outputs": [],
   "source": [
    "# victim gender transforming\n",
    "miss_drop['VIC_SEX_MALE'] = np.where(np.array(miss_drop['VIC_SEX']) == \"M\",1,0)\n",
    "miss_drop['VIC_SEX_FEMALE'] = np.where(np.array(miss_drop['VIC_SEX']) == \"F\",1,0)"
   ]
  },
  {
   "cell_type": "code",
   "execution_count": 360,
   "metadata": {},
   "outputs": [
    {
     "data": {
      "text/plain": [
       "array(['BLACK', 'BLACK HISPANIC', 'WHITE HISPANIC', 'WHITE',\n",
       "       'ASIAN / PACIFIC ISLANDER', 'UNKNOWN',\n",
       "       'AMERICAN INDIAN/ALASKAN NATIVE'], dtype=object)"
      ]
     },
     "execution_count": 360,
     "metadata": {},
     "output_type": "execute_result"
    }
   ],
   "source": [
    "miss_drop.VIC_RACE.unique()"
   ]
  },
  {
   "cell_type": "code",
   "execution_count": 361,
   "metadata": {},
   "outputs": [],
   "source": [
    "# victim race transforming\n",
    "miss_drop['VIC_RACE_BLACK'] = np.where(np.array(miss_drop['VIC_RACE']) == \"BLACK\",1,0)\n",
    "miss_drop['VIC_RACE_BLACK_HIS'] = np.where(np.array(miss_drop['VIC_RACE']) == 'BLACK HISPANIC',1,0)\n",
    "miss_drop['VIC_RACE_WHITE_HIS'] = np.where(np.array(miss_drop['VIC_RACE']) == 'WHITE HISPANIC',1,0)\n",
    "miss_drop['VIC_RACE_ASIAN_PAR'] = np.where(np.array(miss_drop['VIC_RACE']) == 'ASIAN / PACIFIC ISLANDER',1,0)\n",
    "miss_drop['VIC_RACE_AMERICAN_ALA'] = np.where(np.array(miss_drop['VIC_RACE']) == 'AMERICAN INDIAN/ALASKAN NATIVE',1,0)"
   ]
  },
  {
   "cell_type": "code",
   "execution_count": 362,
   "metadata": {},
   "outputs": [
    {
     "data": {
      "text/plain": [
       "array(['QUEENS', 'BROOKLYN', 'BRONX', 'MANHATTAN', 'STATEN ISLAND'],\n",
       "      dtype=object)"
      ]
     },
     "execution_count": 362,
     "metadata": {},
     "output_type": "execute_result"
    }
   ],
   "source": [
    "miss_drop.BORO.unique()"
   ]
  },
  {
   "cell_type": "code",
   "execution_count": 363,
   "metadata": {},
   "outputs": [],
   "source": [
    "#  boro transforming\n",
    "miss_drop['BORO_QUEENS'] = np.where(np.array(miss_drop['BORO']) == 'QUEENS',1,0)\n",
    "miss_drop['BORO_BROOKLYN'] = np.where(np.array(miss_drop['BORO']) == 'BROOKLYN',1,0)\n",
    "miss_drop['BORO_BRONX'] = np.where(np.array(miss_drop['BORO']) == 'BRONX',1,0)\n",
    "miss_drop['BORO_MANHATTAN'] = np.where(np.array(miss_drop['BORO']) == 'MANHATTAN',1,0)\n",
    "miss_drop['BORO_STATEN'] = np.where(np.array(miss_drop['BORO']) == 'STATEN ISLAND',1,0)"
   ]
  },
  {
   "cell_type": "code",
   "execution_count": 364,
   "metadata": {},
   "outputs": [],
   "source": [
    "#Date processing and get Year, Month, Day\n",
    "import datetime as dt\n",
    "miss_drop.OCCUR_DATE = pd.to_datetime(miss_drop.OCCUR_DATE)\n",
    "miss_drop['OCCUR_YEAR'] = miss_drop.OCCUR_DATE.dt.year\n",
    "miss_drop['OCCUR_MONTH'] = miss_drop.OCCUR_DATE.dt.month\n",
    "miss_drop['OCCUR_Day'] = miss_drop.OCCUR_DATE.dt.day\n",
    "miss_drop['OCCUR_Hour'] = pd.to_datetime(miss_drop.OCCUR_TIME).dt.hour"
   ]
  },
  {
   "cell_type": "code",
   "execution_count": 365,
   "metadata": {},
   "outputs": [],
   "source": [
    "full_data = miss_drop.copy()"
   ]
  },
  {
   "cell_type": "code",
   "execution_count": 366,
   "metadata": {},
   "outputs": [
    {
     "data": {
      "text/plain": [
       "Index(['BORO', 'INCIDENT_KEY', 'OCCUR_DATE', 'OCCUR_TIME',\n",
       "       'STATISTICAL_MURDER_FLAG', 'VIC_AGE_GROUP', 'VIC_RACE', 'VIC_SEX',\n",
       "       'VIC_AGE_18', 'VIC_AGE_18_24', 'VIC_AGE_25_44', 'VIC_AGE_45_64',\n",
       "       'VIC_AGE_65', 'VIC_SEX_MALE', 'VIC_SEX_FEMALE', 'VIC_RACE_BLACK',\n",
       "       'VIC_RACE_BLACK_HIS', 'VIC_RACE_WHITE_HIS', 'VIC_RACE_ASIAN_PAR',\n",
       "       'VIC_RACE_AMERICAN_ALA', 'BORO_QUEENS', 'BORO_BROOKLYN', 'BORO_BRONX',\n",
       "       'BORO_MANHATTAN', 'BORO_STATEN', 'OCCUR_YEAR', 'OCCUR_MONTH',\n",
       "       'OCCUR_Day', 'OCCUR_Hour'],\n",
       "      dtype='object')"
      ]
     },
     "execution_count": 366,
     "metadata": {},
     "output_type": "execute_result"
    }
   ],
   "source": [
    "full_data.columns"
   ]
  },
  {
   "cell_type": "code",
   "execution_count": 367,
   "metadata": {},
   "outputs": [],
   "source": [
    "#drop columns\n",
    "full_data = full_data.drop(columns=['STATISTICAL_MURDER_FLAG', 'VIC_AGE_GROUP', 'VIC_RACE', 'VIC_SEX','BORO'])"
   ]
  },
  {
   "cell_type": "code",
   "execution_count": 368,
   "metadata": {},
   "outputs": [
    {
     "data": {
      "text/html": [
       "<div>\n",
       "<style scoped>\n",
       "    .dataframe tbody tr th:only-of-type {\n",
       "        vertical-align: middle;\n",
       "    }\n",
       "\n",
       "    .dataframe tbody tr th {\n",
       "        vertical-align: top;\n",
       "    }\n",
       "\n",
       "    .dataframe thead th {\n",
       "        text-align: right;\n",
       "    }\n",
       "</style>\n",
       "<table border=\"1\" class=\"dataframe\">\n",
       "  <thead>\n",
       "    <tr style=\"text-align: right;\">\n",
       "      <th></th>\n",
       "      <th>INCIDENT_KEY</th>\n",
       "      <th>OCCUR_DATE</th>\n",
       "      <th>OCCUR_TIME</th>\n",
       "      <th>VIC_AGE_18</th>\n",
       "      <th>VIC_AGE_18_24</th>\n",
       "      <th>VIC_AGE_25_44</th>\n",
       "      <th>VIC_AGE_45_64</th>\n",
       "      <th>VIC_AGE_65</th>\n",
       "      <th>VIC_SEX_MALE</th>\n",
       "      <th>VIC_SEX_FEMALE</th>\n",
       "      <th>...</th>\n",
       "      <th>VIC_RACE_AMERICAN_ALA</th>\n",
       "      <th>BORO_QUEENS</th>\n",
       "      <th>BORO_BROOKLYN</th>\n",
       "      <th>BORO_BRONX</th>\n",
       "      <th>BORO_MANHATTAN</th>\n",
       "      <th>BORO_STATEN</th>\n",
       "      <th>OCCUR_YEAR</th>\n",
       "      <th>OCCUR_MONTH</th>\n",
       "      <th>OCCUR_Day</th>\n",
       "      <th>OCCUR_Hour</th>\n",
       "    </tr>\n",
       "  </thead>\n",
       "  <tbody>\n",
       "    <tr>\n",
       "      <th>0</th>\n",
       "      <td>74146165</td>\n",
       "      <td>2010-08-14</td>\n",
       "      <td>3:11:00</td>\n",
       "      <td>0</td>\n",
       "      <td>0</td>\n",
       "      <td>1</td>\n",
       "      <td>0</td>\n",
       "      <td>0</td>\n",
       "      <td>1</td>\n",
       "      <td>0</td>\n",
       "      <td>...</td>\n",
       "      <td>0</td>\n",
       "      <td>1</td>\n",
       "      <td>0</td>\n",
       "      <td>0</td>\n",
       "      <td>0</td>\n",
       "      <td>0</td>\n",
       "      <td>2010</td>\n",
       "      <td>8</td>\n",
       "      <td>14</td>\n",
       "      <td>3</td>\n",
       "    </tr>\n",
       "    <tr>\n",
       "      <th>1</th>\n",
       "      <td>66928846</td>\n",
       "      <td>2009-10-17</td>\n",
       "      <td>18:03:00</td>\n",
       "      <td>0</td>\n",
       "      <td>0</td>\n",
       "      <td>0</td>\n",
       "      <td>1</td>\n",
       "      <td>0</td>\n",
       "      <td>1</td>\n",
       "      <td>0</td>\n",
       "      <td>...</td>\n",
       "      <td>0</td>\n",
       "      <td>0</td>\n",
       "      <td>1</td>\n",
       "      <td>0</td>\n",
       "      <td>0</td>\n",
       "      <td>0</td>\n",
       "      <td>2009</td>\n",
       "      <td>10</td>\n",
       "      <td>17</td>\n",
       "      <td>18</td>\n",
       "    </tr>\n",
       "    <tr>\n",
       "      <th>2</th>\n",
       "      <td>29114164</td>\n",
       "      <td>2007-05-18</td>\n",
       "      <td>23:00:00</td>\n",
       "      <td>0</td>\n",
       "      <td>0</td>\n",
       "      <td>1</td>\n",
       "      <td>0</td>\n",
       "      <td>0</td>\n",
       "      <td>1</td>\n",
       "      <td>0</td>\n",
       "      <td>...</td>\n",
       "      <td>0</td>\n",
       "      <td>0</td>\n",
       "      <td>1</td>\n",
       "      <td>0</td>\n",
       "      <td>0</td>\n",
       "      <td>0</td>\n",
       "      <td>2007</td>\n",
       "      <td>5</td>\n",
       "      <td>18</td>\n",
       "      <td>23</td>\n",
       "    </tr>\n",
       "    <tr>\n",
       "      <th>3</th>\n",
       "      <td>85180336</td>\n",
       "      <td>2012-06-09</td>\n",
       "      <td>17:15:00</td>\n",
       "      <td>0</td>\n",
       "      <td>0</td>\n",
       "      <td>1</td>\n",
       "      <td>0</td>\n",
       "      <td>0</td>\n",
       "      <td>1</td>\n",
       "      <td>0</td>\n",
       "      <td>...</td>\n",
       "      <td>0</td>\n",
       "      <td>0</td>\n",
       "      <td>1</td>\n",
       "      <td>0</td>\n",
       "      <td>0</td>\n",
       "      <td>0</td>\n",
       "      <td>2012</td>\n",
       "      <td>6</td>\n",
       "      <td>9</td>\n",
       "      <td>17</td>\n",
       "    </tr>\n",
       "    <tr>\n",
       "      <th>4</th>\n",
       "      <td>73405770</td>\n",
       "      <td>2010-06-27</td>\n",
       "      <td>4:14:00</td>\n",
       "      <td>0</td>\n",
       "      <td>0</td>\n",
       "      <td>1</td>\n",
       "      <td>0</td>\n",
       "      <td>0</td>\n",
       "      <td>1</td>\n",
       "      <td>0</td>\n",
       "      <td>...</td>\n",
       "      <td>0</td>\n",
       "      <td>0</td>\n",
       "      <td>0</td>\n",
       "      <td>1</td>\n",
       "      <td>0</td>\n",
       "      <td>0</td>\n",
       "      <td>2010</td>\n",
       "      <td>6</td>\n",
       "      <td>27</td>\n",
       "      <td>4</td>\n",
       "    </tr>\n",
       "  </tbody>\n",
       "</table>\n",
       "<p>5 rows × 24 columns</p>\n",
       "</div>"
      ],
      "text/plain": [
       "   INCIDENT_KEY OCCUR_DATE OCCUR_TIME  VIC_AGE_18  VIC_AGE_18_24  \\\n",
       "0      74146165 2010-08-14    3:11:00           0              0   \n",
       "1      66928846 2009-10-17   18:03:00           0              0   \n",
       "2      29114164 2007-05-18   23:00:00           0              0   \n",
       "3      85180336 2012-06-09   17:15:00           0              0   \n",
       "4      73405770 2010-06-27    4:14:00           0              0   \n",
       "\n",
       "   VIC_AGE_25_44  VIC_AGE_45_64  VIC_AGE_65  VIC_SEX_MALE  VIC_SEX_FEMALE  \\\n",
       "0              1              0           0             1               0   \n",
       "1              0              1           0             1               0   \n",
       "2              1              0           0             1               0   \n",
       "3              1              0           0             1               0   \n",
       "4              1              0           0             1               0   \n",
       "\n",
       "   ...  VIC_RACE_AMERICAN_ALA  BORO_QUEENS  BORO_BROOKLYN  BORO_BRONX  \\\n",
       "0  ...                      0            1              0           0   \n",
       "1  ...                      0            0              1           0   \n",
       "2  ...                      0            0              1           0   \n",
       "3  ...                      0            0              1           0   \n",
       "4  ...                      0            0              0           1   \n",
       "\n",
       "   BORO_MANHATTAN  BORO_STATEN  OCCUR_YEAR  OCCUR_MONTH  OCCUR_Day  OCCUR_Hour  \n",
       "0               0            0        2010            8         14           3  \n",
       "1               0            0        2009           10         17          18  \n",
       "2               0            0        2007            5         18          23  \n",
       "3               0            0        2012            6          9          17  \n",
       "4               0            0        2010            6         27           4  \n",
       "\n",
       "[5 rows x 24 columns]"
      ]
     },
     "execution_count": 368,
     "metadata": {},
     "output_type": "execute_result"
    }
   ],
   "source": [
    "full_data.head()\n"
   ]
  },
  {
   "cell_type": "code",
   "execution_count": 369,
   "metadata": {},
   "outputs": [
    {
     "data": {
      "text/plain": [
       "Index(['INCIDENT_KEY', 'OCCUR_DATE', 'OCCUR_TIME', 'VIC_AGE_18',\n",
       "       'VIC_AGE_18_24', 'VIC_AGE_25_44', 'VIC_AGE_45_64', 'VIC_AGE_65',\n",
       "       'VIC_SEX_MALE', 'VIC_SEX_FEMALE', 'VIC_RACE_BLACK',\n",
       "       'VIC_RACE_BLACK_HIS', 'VIC_RACE_WHITE_HIS', 'VIC_RACE_ASIAN_PAR',\n",
       "       'VIC_RACE_AMERICAN_ALA', 'BORO_QUEENS', 'BORO_BROOKLYN', 'BORO_BRONX',\n",
       "       'BORO_MANHATTAN', 'BORO_STATEN', 'OCCUR_YEAR', 'OCCUR_MONTH',\n",
       "       'OCCUR_Day', 'OCCUR_Hour'],\n",
       "      dtype='object')"
      ]
     },
     "execution_count": 369,
     "metadata": {},
     "output_type": "execute_result"
    }
   ],
   "source": [
    "full_data.columns"
   ]
  },
  {
   "cell_type": "code",
   "execution_count": 370,
   "metadata": {},
   "outputs": [],
   "source": [
    "#Group by Year, Month to get monthly data\n",
    "full_data_group = full_data.groupby(['OCCUR_YEAR',\"OCCUR_MONTH\"])['VIC_AGE_18',\n",
    "       'VIC_AGE_18_24', 'VIC_AGE_25_44', 'VIC_AGE_45_64', 'VIC_AGE_65',\n",
    "       'VIC_SEX_MALE', 'VIC_SEX_FEMALE', 'VIC_RACE_BLACK',\n",
    "       'VIC_RACE_BLACK_HIS', 'VIC_RACE_WHITE_HIS', 'VIC_RACE_ASIAN_PAR',\n",
    "       'VIC_RACE_AMERICAN_ALA', 'BORO_QUEENS', 'BORO_BROOKLYN', 'BORO_BRONX',\n",
    "       'BORO_MANHATTAN', 'BORO_STATEN'].sum()"
   ]
  },
  {
   "cell_type": "code",
   "execution_count": 371,
   "metadata": {},
   "outputs": [
    {
     "data": {
      "text/html": [
       "<div>\n",
       "<style scoped>\n",
       "    .dataframe tbody tr th:only-of-type {\n",
       "        vertical-align: middle;\n",
       "    }\n",
       "\n",
       "    .dataframe tbody tr th {\n",
       "        vertical-align: top;\n",
       "    }\n",
       "\n",
       "    .dataframe thead th {\n",
       "        text-align: right;\n",
       "    }\n",
       "</style>\n",
       "<table border=\"1\" class=\"dataframe\">\n",
       "  <thead>\n",
       "    <tr style=\"text-align: right;\">\n",
       "      <th></th>\n",
       "      <th></th>\n",
       "      <th>VIC_AGE_18</th>\n",
       "      <th>VIC_AGE_18_24</th>\n",
       "      <th>VIC_AGE_25_44</th>\n",
       "      <th>VIC_AGE_45_64</th>\n",
       "      <th>VIC_AGE_65</th>\n",
       "      <th>VIC_SEX_MALE</th>\n",
       "      <th>VIC_SEX_FEMALE</th>\n",
       "      <th>VIC_RACE_BLACK</th>\n",
       "      <th>VIC_RACE_BLACK_HIS</th>\n",
       "      <th>VIC_RACE_WHITE_HIS</th>\n",
       "      <th>VIC_RACE_ASIAN_PAR</th>\n",
       "      <th>VIC_RACE_AMERICAN_ALA</th>\n",
       "      <th>BORO_QUEENS</th>\n",
       "      <th>BORO_BROOKLYN</th>\n",
       "      <th>BORO_BRONX</th>\n",
       "      <th>BORO_MANHATTAN</th>\n",
       "      <th>BORO_STATEN</th>\n",
       "    </tr>\n",
       "    <tr>\n",
       "      <th>OCCUR_YEAR</th>\n",
       "      <th>OCCUR_MONTH</th>\n",
       "      <th></th>\n",
       "      <th></th>\n",
       "      <th></th>\n",
       "      <th></th>\n",
       "      <th></th>\n",
       "      <th></th>\n",
       "      <th></th>\n",
       "      <th></th>\n",
       "      <th></th>\n",
       "      <th></th>\n",
       "      <th></th>\n",
       "      <th></th>\n",
       "      <th></th>\n",
       "      <th></th>\n",
       "      <th></th>\n",
       "      <th></th>\n",
       "      <th></th>\n",
       "    </tr>\n",
       "  </thead>\n",
       "  <tbody>\n",
       "    <tr>\n",
       "      <th rowspan=\"5\" valign=\"top\">2006</th>\n",
       "      <th>1</th>\n",
       "      <td>15</td>\n",
       "      <td>58</td>\n",
       "      <td>51</td>\n",
       "      <td>5</td>\n",
       "      <td>0</td>\n",
       "      <td>123</td>\n",
       "      <td>6</td>\n",
       "      <td>86</td>\n",
       "      <td>6</td>\n",
       "      <td>24</td>\n",
       "      <td>6</td>\n",
       "      <td>0</td>\n",
       "      <td>18</td>\n",
       "      <td>49</td>\n",
       "      <td>40</td>\n",
       "      <td>16</td>\n",
       "      <td>6</td>\n",
       "    </tr>\n",
       "    <tr>\n",
       "      <th>2</th>\n",
       "      <td>11</td>\n",
       "      <td>38</td>\n",
       "      <td>40</td>\n",
       "      <td>8</td>\n",
       "      <td>0</td>\n",
       "      <td>91</td>\n",
       "      <td>6</td>\n",
       "      <td>63</td>\n",
       "      <td>4</td>\n",
       "      <td>21</td>\n",
       "      <td>5</td>\n",
       "      <td>0</td>\n",
       "      <td>23</td>\n",
       "      <td>34</td>\n",
       "      <td>22</td>\n",
       "      <td>16</td>\n",
       "      <td>2</td>\n",
       "    </tr>\n",
       "    <tr>\n",
       "      <th>3</th>\n",
       "      <td>14</td>\n",
       "      <td>46</td>\n",
       "      <td>36</td>\n",
       "      <td>6</td>\n",
       "      <td>0</td>\n",
       "      <td>96</td>\n",
       "      <td>6</td>\n",
       "      <td>74</td>\n",
       "      <td>1</td>\n",
       "      <td>22</td>\n",
       "      <td>1</td>\n",
       "      <td>0</td>\n",
       "      <td>9</td>\n",
       "      <td>48</td>\n",
       "      <td>27</td>\n",
       "      <td>14</td>\n",
       "      <td>4</td>\n",
       "    </tr>\n",
       "    <tr>\n",
       "      <th>4</th>\n",
       "      <td>21</td>\n",
       "      <td>64</td>\n",
       "      <td>62</td>\n",
       "      <td>7</td>\n",
       "      <td>2</td>\n",
       "      <td>144</td>\n",
       "      <td>12</td>\n",
       "      <td>103</td>\n",
       "      <td>2</td>\n",
       "      <td>47</td>\n",
       "      <td>1</td>\n",
       "      <td>0</td>\n",
       "      <td>29</td>\n",
       "      <td>54</td>\n",
       "      <td>46</td>\n",
       "      <td>20</td>\n",
       "      <td>7</td>\n",
       "    </tr>\n",
       "    <tr>\n",
       "      <th>5</th>\n",
       "      <td>29</td>\n",
       "      <td>73</td>\n",
       "      <td>63</td>\n",
       "      <td>6</td>\n",
       "      <td>2</td>\n",
       "      <td>161</td>\n",
       "      <td>12</td>\n",
       "      <td>126</td>\n",
       "      <td>3</td>\n",
       "      <td>40</td>\n",
       "      <td>0</td>\n",
       "      <td>0</td>\n",
       "      <td>18</td>\n",
       "      <td>80</td>\n",
       "      <td>46</td>\n",
       "      <td>27</td>\n",
       "      <td>2</td>\n",
       "    </tr>\n",
       "  </tbody>\n",
       "</table>\n",
       "</div>"
      ],
      "text/plain": [
       "                        VIC_AGE_18  VIC_AGE_18_24  VIC_AGE_25_44  \\\n",
       "OCCUR_YEAR OCCUR_MONTH                                             \n",
       "2006       1                    15             58             51   \n",
       "           2                    11             38             40   \n",
       "           3                    14             46             36   \n",
       "           4                    21             64             62   \n",
       "           5                    29             73             63   \n",
       "\n",
       "                        VIC_AGE_45_64  VIC_AGE_65  VIC_SEX_MALE  \\\n",
       "OCCUR_YEAR OCCUR_MONTH                                            \n",
       "2006       1                        5           0           123   \n",
       "           2                        8           0            91   \n",
       "           3                        6           0            96   \n",
       "           4                        7           2           144   \n",
       "           5                        6           2           161   \n",
       "\n",
       "                        VIC_SEX_FEMALE  VIC_RACE_BLACK  VIC_RACE_BLACK_HIS  \\\n",
       "OCCUR_YEAR OCCUR_MONTH                                                       \n",
       "2006       1                         6              86                   6   \n",
       "           2                         6              63                   4   \n",
       "           3                         6              74                   1   \n",
       "           4                        12             103                   2   \n",
       "           5                        12             126                   3   \n",
       "\n",
       "                        VIC_RACE_WHITE_HIS  VIC_RACE_ASIAN_PAR  \\\n",
       "OCCUR_YEAR OCCUR_MONTH                                           \n",
       "2006       1                            24                   6   \n",
       "           2                            21                   5   \n",
       "           3                            22                   1   \n",
       "           4                            47                   1   \n",
       "           5                            40                   0   \n",
       "\n",
       "                        VIC_RACE_AMERICAN_ALA  BORO_QUEENS  BORO_BROOKLYN  \\\n",
       "OCCUR_YEAR OCCUR_MONTH                                                      \n",
       "2006       1                                0           18             49   \n",
       "           2                                0           23             34   \n",
       "           3                                0            9             48   \n",
       "           4                                0           29             54   \n",
       "           5                                0           18             80   \n",
       "\n",
       "                        BORO_BRONX  BORO_MANHATTAN  BORO_STATEN  \n",
       "OCCUR_YEAR OCCUR_MONTH                                           \n",
       "2006       1                    40              16            6  \n",
       "           2                    22              16            2  \n",
       "           3                    27              14            4  \n",
       "           4                    46              20            7  \n",
       "           5                    46              27            2  "
      ]
     },
     "execution_count": 371,
     "metadata": {},
     "output_type": "execute_result"
    }
   ],
   "source": [
    "full_data_group.head()"
   ]
  },
  {
   "cell_type": "code",
   "execution_count": 372,
   "metadata": {},
   "outputs": [],
   "source": [
    "number_of_incident = full_data.groupby(['OCCUR_YEAR',\"OCCUR_MONTH\"]).count()['INCIDENT_KEY'].values"
   ]
  },
  {
   "cell_type": "code",
   "execution_count": 373,
   "metadata": {},
   "outputs": [],
   "source": [
    "full_data_group['Number_of_Incident'] = number_of_incident"
   ]
  },
  {
   "cell_type": "code",
   "execution_count": 374,
   "metadata": {},
   "outputs": [
    {
     "data": {
      "text/html": [
       "<div>\n",
       "<style scoped>\n",
       "    .dataframe tbody tr th:only-of-type {\n",
       "        vertical-align: middle;\n",
       "    }\n",
       "\n",
       "    .dataframe tbody tr th {\n",
       "        vertical-align: top;\n",
       "    }\n",
       "\n",
       "    .dataframe thead th {\n",
       "        text-align: right;\n",
       "    }\n",
       "</style>\n",
       "<table border=\"1\" class=\"dataframe\">\n",
       "  <thead>\n",
       "    <tr style=\"text-align: right;\">\n",
       "      <th></th>\n",
       "      <th></th>\n",
       "      <th>VIC_AGE_18</th>\n",
       "      <th>VIC_AGE_18_24</th>\n",
       "      <th>VIC_AGE_25_44</th>\n",
       "      <th>VIC_AGE_45_64</th>\n",
       "      <th>VIC_AGE_65</th>\n",
       "      <th>VIC_SEX_MALE</th>\n",
       "      <th>VIC_SEX_FEMALE</th>\n",
       "      <th>VIC_RACE_BLACK</th>\n",
       "      <th>VIC_RACE_BLACK_HIS</th>\n",
       "      <th>VIC_RACE_WHITE_HIS</th>\n",
       "      <th>VIC_RACE_ASIAN_PAR</th>\n",
       "      <th>VIC_RACE_AMERICAN_ALA</th>\n",
       "      <th>BORO_QUEENS</th>\n",
       "      <th>BORO_BROOKLYN</th>\n",
       "      <th>BORO_BRONX</th>\n",
       "      <th>BORO_MANHATTAN</th>\n",
       "      <th>BORO_STATEN</th>\n",
       "      <th>Number_of_Incident</th>\n",
       "    </tr>\n",
       "    <tr>\n",
       "      <th>OCCUR_YEAR</th>\n",
       "      <th>OCCUR_MONTH</th>\n",
       "      <th></th>\n",
       "      <th></th>\n",
       "      <th></th>\n",
       "      <th></th>\n",
       "      <th></th>\n",
       "      <th></th>\n",
       "      <th></th>\n",
       "      <th></th>\n",
       "      <th></th>\n",
       "      <th></th>\n",
       "      <th></th>\n",
       "      <th></th>\n",
       "      <th></th>\n",
       "      <th></th>\n",
       "      <th></th>\n",
       "      <th></th>\n",
       "      <th></th>\n",
       "      <th></th>\n",
       "    </tr>\n",
       "  </thead>\n",
       "  <tbody>\n",
       "    <tr>\n",
       "      <th rowspan=\"5\" valign=\"top\">2006</th>\n",
       "      <th>1</th>\n",
       "      <td>15</td>\n",
       "      <td>58</td>\n",
       "      <td>51</td>\n",
       "      <td>5</td>\n",
       "      <td>0</td>\n",
       "      <td>123</td>\n",
       "      <td>6</td>\n",
       "      <td>86</td>\n",
       "      <td>6</td>\n",
       "      <td>24</td>\n",
       "      <td>6</td>\n",
       "      <td>0</td>\n",
       "      <td>18</td>\n",
       "      <td>49</td>\n",
       "      <td>40</td>\n",
       "      <td>16</td>\n",
       "      <td>6</td>\n",
       "      <td>129</td>\n",
       "    </tr>\n",
       "    <tr>\n",
       "      <th>2</th>\n",
       "      <td>11</td>\n",
       "      <td>38</td>\n",
       "      <td>40</td>\n",
       "      <td>8</td>\n",
       "      <td>0</td>\n",
       "      <td>91</td>\n",
       "      <td>6</td>\n",
       "      <td>63</td>\n",
       "      <td>4</td>\n",
       "      <td>21</td>\n",
       "      <td>5</td>\n",
       "      <td>0</td>\n",
       "      <td>23</td>\n",
       "      <td>34</td>\n",
       "      <td>22</td>\n",
       "      <td>16</td>\n",
       "      <td>2</td>\n",
       "      <td>97</td>\n",
       "    </tr>\n",
       "    <tr>\n",
       "      <th>3</th>\n",
       "      <td>14</td>\n",
       "      <td>46</td>\n",
       "      <td>36</td>\n",
       "      <td>6</td>\n",
       "      <td>0</td>\n",
       "      <td>96</td>\n",
       "      <td>6</td>\n",
       "      <td>74</td>\n",
       "      <td>1</td>\n",
       "      <td>22</td>\n",
       "      <td>1</td>\n",
       "      <td>0</td>\n",
       "      <td>9</td>\n",
       "      <td>48</td>\n",
       "      <td>27</td>\n",
       "      <td>14</td>\n",
       "      <td>4</td>\n",
       "      <td>102</td>\n",
       "    </tr>\n",
       "    <tr>\n",
       "      <th>4</th>\n",
       "      <td>21</td>\n",
       "      <td>64</td>\n",
       "      <td>62</td>\n",
       "      <td>7</td>\n",
       "      <td>2</td>\n",
       "      <td>144</td>\n",
       "      <td>12</td>\n",
       "      <td>103</td>\n",
       "      <td>2</td>\n",
       "      <td>47</td>\n",
       "      <td>1</td>\n",
       "      <td>0</td>\n",
       "      <td>29</td>\n",
       "      <td>54</td>\n",
       "      <td>46</td>\n",
       "      <td>20</td>\n",
       "      <td>7</td>\n",
       "      <td>156</td>\n",
       "    </tr>\n",
       "    <tr>\n",
       "      <th>5</th>\n",
       "      <td>29</td>\n",
       "      <td>73</td>\n",
       "      <td>63</td>\n",
       "      <td>6</td>\n",
       "      <td>2</td>\n",
       "      <td>161</td>\n",
       "      <td>12</td>\n",
       "      <td>126</td>\n",
       "      <td>3</td>\n",
       "      <td>40</td>\n",
       "      <td>0</td>\n",
       "      <td>0</td>\n",
       "      <td>18</td>\n",
       "      <td>80</td>\n",
       "      <td>46</td>\n",
       "      <td>27</td>\n",
       "      <td>2</td>\n",
       "      <td>173</td>\n",
       "    </tr>\n",
       "  </tbody>\n",
       "</table>\n",
       "</div>"
      ],
      "text/plain": [
       "                        VIC_AGE_18  VIC_AGE_18_24  VIC_AGE_25_44  \\\n",
       "OCCUR_YEAR OCCUR_MONTH                                             \n",
       "2006       1                    15             58             51   \n",
       "           2                    11             38             40   \n",
       "           3                    14             46             36   \n",
       "           4                    21             64             62   \n",
       "           5                    29             73             63   \n",
       "\n",
       "                        VIC_AGE_45_64  VIC_AGE_65  VIC_SEX_MALE  \\\n",
       "OCCUR_YEAR OCCUR_MONTH                                            \n",
       "2006       1                        5           0           123   \n",
       "           2                        8           0            91   \n",
       "           3                        6           0            96   \n",
       "           4                        7           2           144   \n",
       "           5                        6           2           161   \n",
       "\n",
       "                        VIC_SEX_FEMALE  VIC_RACE_BLACK  VIC_RACE_BLACK_HIS  \\\n",
       "OCCUR_YEAR OCCUR_MONTH                                                       \n",
       "2006       1                         6              86                   6   \n",
       "           2                         6              63                   4   \n",
       "           3                         6              74                   1   \n",
       "           4                        12             103                   2   \n",
       "           5                        12             126                   3   \n",
       "\n",
       "                        VIC_RACE_WHITE_HIS  VIC_RACE_ASIAN_PAR  \\\n",
       "OCCUR_YEAR OCCUR_MONTH                                           \n",
       "2006       1                            24                   6   \n",
       "           2                            21                   5   \n",
       "           3                            22                   1   \n",
       "           4                            47                   1   \n",
       "           5                            40                   0   \n",
       "\n",
       "                        VIC_RACE_AMERICAN_ALA  BORO_QUEENS  BORO_BROOKLYN  \\\n",
       "OCCUR_YEAR OCCUR_MONTH                                                      \n",
       "2006       1                                0           18             49   \n",
       "           2                                0           23             34   \n",
       "           3                                0            9             48   \n",
       "           4                                0           29             54   \n",
       "           5                                0           18             80   \n",
       "\n",
       "                        BORO_BRONX  BORO_MANHATTAN  BORO_STATEN  \\\n",
       "OCCUR_YEAR OCCUR_MONTH                                            \n",
       "2006       1                    40              16            6   \n",
       "           2                    22              16            2   \n",
       "           3                    27              14            4   \n",
       "           4                    46              20            7   \n",
       "           5                    46              27            2   \n",
       "\n",
       "                        Number_of_Incident  \n",
       "OCCUR_YEAR OCCUR_MONTH                      \n",
       "2006       1                           129  \n",
       "           2                            97  \n",
       "           3                           102  \n",
       "           4                           156  \n",
       "           5                           173  "
      ]
     },
     "execution_count": 374,
     "metadata": {},
     "output_type": "execute_result"
    }
   ],
   "source": [
    "full_data_group.head()"
   ]
  },
  {
   "cell_type": "code",
   "execution_count": 375,
   "metadata": {},
   "outputs": [
    {
     "data": {
      "text/html": [
       "<div>\n",
       "<style scoped>\n",
       "    .dataframe tbody tr th:only-of-type {\n",
       "        vertical-align: middle;\n",
       "    }\n",
       "\n",
       "    .dataframe tbody tr th {\n",
       "        vertical-align: top;\n",
       "    }\n",
       "\n",
       "    .dataframe thead th {\n",
       "        text-align: right;\n",
       "    }\n",
       "</style>\n",
       "<table border=\"1\" class=\"dataframe\">\n",
       "  <thead>\n",
       "    <tr style=\"text-align: right;\">\n",
       "      <th></th>\n",
       "      <th></th>\n",
       "      <th>VIC_AGE_18</th>\n",
       "      <th>VIC_AGE_18_24</th>\n",
       "      <th>VIC_AGE_25_44</th>\n",
       "      <th>VIC_AGE_45_64</th>\n",
       "      <th>VIC_AGE_65</th>\n",
       "      <th>VIC_SEX_MALE</th>\n",
       "      <th>VIC_SEX_FEMALE</th>\n",
       "      <th>VIC_RACE_BLACK</th>\n",
       "      <th>VIC_RACE_BLACK_HIS</th>\n",
       "      <th>VIC_RACE_WHITE_HIS</th>\n",
       "      <th>VIC_RACE_ASIAN_PAR</th>\n",
       "      <th>VIC_RACE_AMERICAN_ALA</th>\n",
       "      <th>BORO_QUEENS</th>\n",
       "      <th>BORO_BROOKLYN</th>\n",
       "      <th>BORO_BRONX</th>\n",
       "      <th>BORO_MANHATTAN</th>\n",
       "      <th>BORO_STATEN</th>\n",
       "      <th>Number_of_Incident</th>\n",
       "    </tr>\n",
       "    <tr>\n",
       "      <th>OCCUR_YEAR</th>\n",
       "      <th>OCCUR_MONTH</th>\n",
       "      <th></th>\n",
       "      <th></th>\n",
       "      <th></th>\n",
       "      <th></th>\n",
       "      <th></th>\n",
       "      <th></th>\n",
       "      <th></th>\n",
       "      <th></th>\n",
       "      <th></th>\n",
       "      <th></th>\n",
       "      <th></th>\n",
       "      <th></th>\n",
       "      <th></th>\n",
       "      <th></th>\n",
       "      <th></th>\n",
       "      <th></th>\n",
       "      <th></th>\n",
       "      <th></th>\n",
       "    </tr>\n",
       "  </thead>\n",
       "  <tbody>\n",
       "    <tr>\n",
       "      <th rowspan=\"6\" valign=\"top\">2020</th>\n",
       "      <th>1</th>\n",
       "      <td>5</td>\n",
       "      <td>19</td>\n",
       "      <td>57</td>\n",
       "      <td>8</td>\n",
       "      <td>0</td>\n",
       "      <td>80</td>\n",
       "      <td>9</td>\n",
       "      <td>57</td>\n",
       "      <td>7</td>\n",
       "      <td>19</td>\n",
       "      <td>1</td>\n",
       "      <td>0</td>\n",
       "      <td>19</td>\n",
       "      <td>25</td>\n",
       "      <td>24</td>\n",
       "      <td>20</td>\n",
       "      <td>1</td>\n",
       "      <td>89</td>\n",
       "    </tr>\n",
       "    <tr>\n",
       "      <th>2</th>\n",
       "      <td>2</td>\n",
       "      <td>15</td>\n",
       "      <td>31</td>\n",
       "      <td>1</td>\n",
       "      <td>0</td>\n",
       "      <td>47</td>\n",
       "      <td>4</td>\n",
       "      <td>34</td>\n",
       "      <td>2</td>\n",
       "      <td>9</td>\n",
       "      <td>0</td>\n",
       "      <td>0</td>\n",
       "      <td>17</td>\n",
       "      <td>14</td>\n",
       "      <td>11</td>\n",
       "      <td>6</td>\n",
       "      <td>3</td>\n",
       "      <td>51</td>\n",
       "    </tr>\n",
       "    <tr>\n",
       "      <th>3</th>\n",
       "      <td>3</td>\n",
       "      <td>17</td>\n",
       "      <td>45</td>\n",
       "      <td>6</td>\n",
       "      <td>0</td>\n",
       "      <td>64</td>\n",
       "      <td>7</td>\n",
       "      <td>57</td>\n",
       "      <td>7</td>\n",
       "      <td>5</td>\n",
       "      <td>2</td>\n",
       "      <td>0</td>\n",
       "      <td>9</td>\n",
       "      <td>28</td>\n",
       "      <td>13</td>\n",
       "      <td>18</td>\n",
       "      <td>3</td>\n",
       "      <td>71</td>\n",
       "    </tr>\n",
       "    <tr>\n",
       "      <th>4</th>\n",
       "      <td>4</td>\n",
       "      <td>19</td>\n",
       "      <td>39</td>\n",
       "      <td>5</td>\n",
       "      <td>1</td>\n",
       "      <td>67</td>\n",
       "      <td>2</td>\n",
       "      <td>52</td>\n",
       "      <td>4</td>\n",
       "      <td>10</td>\n",
       "      <td>2</td>\n",
       "      <td>0</td>\n",
       "      <td>9</td>\n",
       "      <td>29</td>\n",
       "      <td>19</td>\n",
       "      <td>10</td>\n",
       "      <td>2</td>\n",
       "      <td>69</td>\n",
       "    </tr>\n",
       "    <tr>\n",
       "      <th>5</th>\n",
       "      <td>6</td>\n",
       "      <td>35</td>\n",
       "      <td>71</td>\n",
       "      <td>12</td>\n",
       "      <td>2</td>\n",
       "      <td>113</td>\n",
       "      <td>12</td>\n",
       "      <td>82</td>\n",
       "      <td>14</td>\n",
       "      <td>27</td>\n",
       "      <td>0</td>\n",
       "      <td>0</td>\n",
       "      <td>25</td>\n",
       "      <td>47</td>\n",
       "      <td>28</td>\n",
       "      <td>18</td>\n",
       "      <td>8</td>\n",
       "      <td>126</td>\n",
       "    </tr>\n",
       "    <tr>\n",
       "      <th>6</th>\n",
       "      <td>17</td>\n",
       "      <td>72</td>\n",
       "      <td>146</td>\n",
       "      <td>21</td>\n",
       "      <td>1</td>\n",
       "      <td>221</td>\n",
       "      <td>32</td>\n",
       "      <td>194</td>\n",
       "      <td>24</td>\n",
       "      <td>30</td>\n",
       "      <td>3</td>\n",
       "      <td>0</td>\n",
       "      <td>36</td>\n",
       "      <td>106</td>\n",
       "      <td>78</td>\n",
       "      <td>34</td>\n",
       "      <td>4</td>\n",
       "      <td>258</td>\n",
       "    </tr>\n",
       "  </tbody>\n",
       "</table>\n",
       "</div>"
      ],
      "text/plain": [
       "                        VIC_AGE_18  VIC_AGE_18_24  VIC_AGE_25_44  \\\n",
       "OCCUR_YEAR OCCUR_MONTH                                             \n",
       "2020       1                     5             19             57   \n",
       "           2                     2             15             31   \n",
       "           3                     3             17             45   \n",
       "           4                     4             19             39   \n",
       "           5                     6             35             71   \n",
       "           6                    17             72            146   \n",
       "\n",
       "                        VIC_AGE_45_64  VIC_AGE_65  VIC_SEX_MALE  \\\n",
       "OCCUR_YEAR OCCUR_MONTH                                            \n",
       "2020       1                        8           0            80   \n",
       "           2                        1           0            47   \n",
       "           3                        6           0            64   \n",
       "           4                        5           1            67   \n",
       "           5                       12           2           113   \n",
       "           6                       21           1           221   \n",
       "\n",
       "                        VIC_SEX_FEMALE  VIC_RACE_BLACK  VIC_RACE_BLACK_HIS  \\\n",
       "OCCUR_YEAR OCCUR_MONTH                                                       \n",
       "2020       1                         9              57                   7   \n",
       "           2                         4              34                   2   \n",
       "           3                         7              57                   7   \n",
       "           4                         2              52                   4   \n",
       "           5                        12              82                  14   \n",
       "           6                        32             194                  24   \n",
       "\n",
       "                        VIC_RACE_WHITE_HIS  VIC_RACE_ASIAN_PAR  \\\n",
       "OCCUR_YEAR OCCUR_MONTH                                           \n",
       "2020       1                            19                   1   \n",
       "           2                             9                   0   \n",
       "           3                             5                   2   \n",
       "           4                            10                   2   \n",
       "           5                            27                   0   \n",
       "           6                            30                   3   \n",
       "\n",
       "                        VIC_RACE_AMERICAN_ALA  BORO_QUEENS  BORO_BROOKLYN  \\\n",
       "OCCUR_YEAR OCCUR_MONTH                                                      \n",
       "2020       1                                0           19             25   \n",
       "           2                                0           17             14   \n",
       "           3                                0            9             28   \n",
       "           4                                0            9             29   \n",
       "           5                                0           25             47   \n",
       "           6                                0           36            106   \n",
       "\n",
       "                        BORO_BRONX  BORO_MANHATTAN  BORO_STATEN  \\\n",
       "OCCUR_YEAR OCCUR_MONTH                                            \n",
       "2020       1                    24              20            1   \n",
       "           2                    11               6            3   \n",
       "           3                    13              18            3   \n",
       "           4                    19              10            2   \n",
       "           5                    28              18            8   \n",
       "           6                    78              34            4   \n",
       "\n",
       "                        Number_of_Incident  \n",
       "OCCUR_YEAR OCCUR_MONTH                      \n",
       "2020       1                            89  \n",
       "           2                            51  \n",
       "           3                            71  \n",
       "           4                            69  \n",
       "           5                           126  \n",
       "           6                           258  "
      ]
     },
     "execution_count": 375,
     "metadata": {},
     "output_type": "execute_result"
    }
   ],
   "source": [
    "full_data_group.tail(6)"
   ]
  },
  {
   "cell_type": "code",
   "execution_count": 376,
   "metadata": {},
   "outputs": [
    {
     "data": {
      "text/plain": [
       "(174, 20)"
      ]
     },
     "execution_count": 376,
     "metadata": {},
     "output_type": "execute_result"
    }
   ],
   "source": [
    "full_data_group.reset_index().shape"
   ]
  },
  {
   "cell_type": "code",
   "execution_count": 377,
   "metadata": {},
   "outputs": [],
   "source": [
    "#Unemployment processing\n",
    "\n",
    "unemployment = pd.read_csv('UnemploymentRate.22.csv')"
   ]
  },
  {
   "cell_type": "code",
   "execution_count": 378,
   "metadata": {},
   "outputs": [
    {
     "data": {
      "text/html": [
       "<div>\n",
       "<style scoped>\n",
       "    .dataframe tbody tr th:only-of-type {\n",
       "        vertical-align: middle;\n",
       "    }\n",
       "\n",
       "    .dataframe tbody tr th {\n",
       "        vertical-align: top;\n",
       "    }\n",
       "\n",
       "    .dataframe thead th {\n",
       "        text-align: right;\n",
       "    }\n",
       "</style>\n",
       "<table border=\"1\" class=\"dataframe\">\n",
       "  <thead>\n",
       "    <tr style=\"text-align: right;\">\n",
       "      <th></th>\n",
       "      <th>Date</th>\n",
       "      <th>PX_LAST</th>\n",
       "    </tr>\n",
       "  </thead>\n",
       "  <tbody>\n",
       "    <tr>\n",
       "      <th>0</th>\n",
       "      <td>9/30/2020</td>\n",
       "      <td>7.9</td>\n",
       "    </tr>\n",
       "    <tr>\n",
       "      <th>1</th>\n",
       "      <td>8/31/2020</td>\n",
       "      <td>8.4</td>\n",
       "    </tr>\n",
       "    <tr>\n",
       "      <th>2</th>\n",
       "      <td>7/31/2020</td>\n",
       "      <td>10.2</td>\n",
       "    </tr>\n",
       "    <tr>\n",
       "      <th>3</th>\n",
       "      <td>6/30/2020</td>\n",
       "      <td>11.1</td>\n",
       "    </tr>\n",
       "    <tr>\n",
       "      <th>4</th>\n",
       "      <td>5/31/2020</td>\n",
       "      <td>13.3</td>\n",
       "    </tr>\n",
       "  </tbody>\n",
       "</table>\n",
       "</div>"
      ],
      "text/plain": [
       "        Date  PX_LAST\n",
       "0  9/30/2020      7.9\n",
       "1  8/31/2020      8.4\n",
       "2  7/31/2020     10.2\n",
       "3  6/30/2020     11.1\n",
       "4  5/31/2020     13.3"
      ]
     },
     "execution_count": 378,
     "metadata": {},
     "output_type": "execute_result"
    }
   ],
   "source": [
    "unemployment.head()\n"
   ]
  },
  {
   "cell_type": "code",
   "execution_count": 379,
   "metadata": {},
   "outputs": [
    {
     "data": {
      "text/html": [
       "<div>\n",
       "<style scoped>\n",
       "    .dataframe tbody tr th:only-of-type {\n",
       "        vertical-align: middle;\n",
       "    }\n",
       "\n",
       "    .dataframe tbody tr th {\n",
       "        vertical-align: top;\n",
       "    }\n",
       "\n",
       "    .dataframe thead th {\n",
       "        text-align: right;\n",
       "    }\n",
       "</style>\n",
       "<table border=\"1\" class=\"dataframe\">\n",
       "  <thead>\n",
       "    <tr style=\"text-align: right;\">\n",
       "      <th></th>\n",
       "      <th>Date</th>\n",
       "      <th>PX_LAST</th>\n",
       "    </tr>\n",
       "  </thead>\n",
       "  <tbody>\n",
       "    <tr>\n",
       "      <th>184</th>\n",
       "      <td>5/31/2005</td>\n",
       "      <td>5.1</td>\n",
       "    </tr>\n",
       "    <tr>\n",
       "      <th>185</th>\n",
       "      <td>4/30/2005</td>\n",
       "      <td>5.2</td>\n",
       "    </tr>\n",
       "    <tr>\n",
       "      <th>186</th>\n",
       "      <td>3/31/2005</td>\n",
       "      <td>5.2</td>\n",
       "    </tr>\n",
       "    <tr>\n",
       "      <th>187</th>\n",
       "      <td>2/28/2005</td>\n",
       "      <td>5.4</td>\n",
       "    </tr>\n",
       "    <tr>\n",
       "      <th>188</th>\n",
       "      <td>1/31/2005</td>\n",
       "      <td>5.3</td>\n",
       "    </tr>\n",
       "  </tbody>\n",
       "</table>\n",
       "</div>"
      ],
      "text/plain": [
       "          Date  PX_LAST\n",
       "184  5/31/2005      5.1\n",
       "185  4/30/2005      5.2\n",
       "186  3/31/2005      5.2\n",
       "187  2/28/2005      5.4\n",
       "188  1/31/2005      5.3"
      ]
     },
     "execution_count": 379,
     "metadata": {},
     "output_type": "execute_result"
    }
   ],
   "source": [
    "unemployment.tail()"
   ]
  },
  {
   "cell_type": "code",
   "execution_count": 380,
   "metadata": {},
   "outputs": [],
   "source": [
    "unemployment.Date = pd.to_datetime(unemployment.Date)\n",
    "unemployment['Year'] = unemployment.Date.dt.year\n",
    "unemployment['Month'] = unemployment.Date.dt.month"
   ]
  },
  {
   "cell_type": "code",
   "execution_count": 381,
   "metadata": {},
   "outputs": [],
   "source": [
    "unemployment_group = unemployment.groupby(['Year','Month'])['PX_LAST'].mean()\n"
   ]
  },
  {
   "cell_type": "code",
   "execution_count": 382,
   "metadata": {},
   "outputs": [],
   "source": [
    "unemployment_group = pd.DataFrame(unemployment_group)\n",
    "unemployment_group.head()\n",
    "unemployment_group.reset_index(inplace = True)"
   ]
  },
  {
   "cell_type": "code",
   "execution_count": 383,
   "metadata": {},
   "outputs": [],
   "source": [
    "unemployment_group.rename(columns= {'PX_LAST':\"UnemploymentRate\"},inplace = True)"
   ]
  },
  {
   "cell_type": "code",
   "execution_count": 384,
   "metadata": {},
   "outputs": [
    {
     "data": {
      "text/html": [
       "<div>\n",
       "<style scoped>\n",
       "    .dataframe tbody tr th:only-of-type {\n",
       "        vertical-align: middle;\n",
       "    }\n",
       "\n",
       "    .dataframe tbody tr th {\n",
       "        vertical-align: top;\n",
       "    }\n",
       "\n",
       "    .dataframe thead th {\n",
       "        text-align: right;\n",
       "    }\n",
       "</style>\n",
       "<table border=\"1\" class=\"dataframe\">\n",
       "  <thead>\n",
       "    <tr style=\"text-align: right;\">\n",
       "      <th></th>\n",
       "      <th>Year</th>\n",
       "      <th>Month</th>\n",
       "      <th>UnemploymentRate</th>\n",
       "    </tr>\n",
       "  </thead>\n",
       "  <tbody>\n",
       "    <tr>\n",
       "      <th>0</th>\n",
       "      <td>2005</td>\n",
       "      <td>1</td>\n",
       "      <td>5.3</td>\n",
       "    </tr>\n",
       "    <tr>\n",
       "      <th>1</th>\n",
       "      <td>2005</td>\n",
       "      <td>2</td>\n",
       "      <td>5.4</td>\n",
       "    </tr>\n",
       "    <tr>\n",
       "      <th>2</th>\n",
       "      <td>2005</td>\n",
       "      <td>3</td>\n",
       "      <td>5.2</td>\n",
       "    </tr>\n",
       "    <tr>\n",
       "      <th>3</th>\n",
       "      <td>2005</td>\n",
       "      <td>4</td>\n",
       "      <td>5.2</td>\n",
       "    </tr>\n",
       "    <tr>\n",
       "      <th>4</th>\n",
       "      <td>2005</td>\n",
       "      <td>5</td>\n",
       "      <td>5.1</td>\n",
       "    </tr>\n",
       "  </tbody>\n",
       "</table>\n",
       "</div>"
      ],
      "text/plain": [
       "   Year  Month  UnemploymentRate\n",
       "0  2005      1               5.3\n",
       "1  2005      2               5.4\n",
       "2  2005      3               5.2\n",
       "3  2005      4               5.2\n",
       "4  2005      5               5.1"
      ]
     },
     "execution_count": 384,
     "metadata": {},
     "output_type": "execute_result"
    }
   ],
   "source": [
    "unemployment_group.head()"
   ]
  },
  {
   "cell_type": "code",
   "execution_count": 385,
   "metadata": {},
   "outputs": [
    {
     "data": {
      "text/html": [
       "<div>\n",
       "<style scoped>\n",
       "    .dataframe tbody tr th:only-of-type {\n",
       "        vertical-align: middle;\n",
       "    }\n",
       "\n",
       "    .dataframe tbody tr th {\n",
       "        vertical-align: top;\n",
       "    }\n",
       "\n",
       "    .dataframe thead th {\n",
       "        text-align: right;\n",
       "    }\n",
       "</style>\n",
       "<table border=\"1\" class=\"dataframe\">\n",
       "  <thead>\n",
       "    <tr style=\"text-align: right;\">\n",
       "      <th></th>\n",
       "      <th>Date</th>\n",
       "      <th>PX_LAST</th>\n",
       "    </tr>\n",
       "  </thead>\n",
       "  <tbody>\n",
       "    <tr>\n",
       "      <th>0</th>\n",
       "      <td>9/30/2020</td>\n",
       "      <td>17.0</td>\n",
       "    </tr>\n",
       "    <tr>\n",
       "      <th>1</th>\n",
       "      <td>8/31/2020</td>\n",
       "      <td>3.7</td>\n",
       "    </tr>\n",
       "    <tr>\n",
       "      <th>2</th>\n",
       "      <td>7/31/2020</td>\n",
       "      <td>17.2</td>\n",
       "    </tr>\n",
       "    <tr>\n",
       "      <th>3</th>\n",
       "      <td>6/30/2020</td>\n",
       "      <td>-0.2</td>\n",
       "    </tr>\n",
       "    <tr>\n",
       "      <th>4</th>\n",
       "      <td>5/31/2020</td>\n",
       "      <td>-48.5</td>\n",
       "    </tr>\n",
       "  </tbody>\n",
       "</table>\n",
       "</div>"
      ],
      "text/plain": [
       "        Date  PX_LAST\n",
       "0  9/30/2020     17.0\n",
       "1  8/31/2020      3.7\n",
       "2  7/31/2020     17.2\n",
       "3  6/30/2020     -0.2\n",
       "4  5/31/2020    -48.5"
      ]
     },
     "execution_count": 385,
     "metadata": {},
     "output_type": "execute_result"
    }
   ],
   "source": [
    "# NYC Empire dataset\n",
    "\n",
    "ny_empire = pd.read_csv('NY.Empire.22.csv')\n",
    "ny_empire.head()"
   ]
  },
  {
   "cell_type": "code",
   "execution_count": 386,
   "metadata": {},
   "outputs": [],
   "source": [
    "ny_empire.Date = pd.to_datetime(ny_empire.Date)\n",
    "ny_empire['Year'] = ny_empire.Date.dt.year\n",
    "ny_empire['Month'] = ny_empire.Date.dt.month\n",
    "ny_empire.rename(columns= {'PX_LAST':\"NY_Empire\"},inplace = True)\n",
    "ny_empire = ny_empire.groupby(['Year','Month'])['NY_Empire'].mean()"
   ]
  },
  {
   "cell_type": "code",
   "execution_count": 387,
   "metadata": {},
   "outputs": [
    {
     "data": {
      "text/html": [
       "<div>\n",
       "<style scoped>\n",
       "    .dataframe tbody tr th:only-of-type {\n",
       "        vertical-align: middle;\n",
       "    }\n",
       "\n",
       "    .dataframe tbody tr th {\n",
       "        vertical-align: top;\n",
       "    }\n",
       "\n",
       "    .dataframe thead th {\n",
       "        text-align: right;\n",
       "    }\n",
       "</style>\n",
       "<table border=\"1\" class=\"dataframe\">\n",
       "  <thead>\n",
       "    <tr style=\"text-align: right;\">\n",
       "      <th></th>\n",
       "      <th></th>\n",
       "      <th>NY_Empire</th>\n",
       "    </tr>\n",
       "    <tr>\n",
       "      <th>Year</th>\n",
       "      <th>Month</th>\n",
       "      <th></th>\n",
       "    </tr>\n",
       "  </thead>\n",
       "  <tbody>\n",
       "    <tr>\n",
       "      <th rowspan=\"5\" valign=\"top\">2005</th>\n",
       "      <th>1</th>\n",
       "      <td>15.6</td>\n",
       "    </tr>\n",
       "    <tr>\n",
       "      <th>2</th>\n",
       "      <td>17.1</td>\n",
       "    </tr>\n",
       "    <tr>\n",
       "      <th>3</th>\n",
       "      <td>24.3</td>\n",
       "    </tr>\n",
       "    <tr>\n",
       "      <th>4</th>\n",
       "      <td>8.3</td>\n",
       "    </tr>\n",
       "    <tr>\n",
       "      <th>5</th>\n",
       "      <td>-4.9</td>\n",
       "    </tr>\n",
       "  </tbody>\n",
       "</table>\n",
       "</div>"
      ],
      "text/plain": [
       "            NY_Empire\n",
       "Year Month           \n",
       "2005 1           15.6\n",
       "     2           17.1\n",
       "     3           24.3\n",
       "     4            8.3\n",
       "     5           -4.9"
      ]
     },
     "execution_count": 387,
     "metadata": {},
     "output_type": "execute_result"
    }
   ],
   "source": [
    "ny_empire = pd.DataFrame(ny_empire)\n",
    "ny_empire.head()"
   ]
  },
  {
   "cell_type": "code",
   "execution_count": 388,
   "metadata": {},
   "outputs": [
    {
     "data": {
      "text/html": [
       "<div>\n",
       "<style scoped>\n",
       "    .dataframe tbody tr th:only-of-type {\n",
       "        vertical-align: middle;\n",
       "    }\n",
       "\n",
       "    .dataframe tbody tr th {\n",
       "        vertical-align: top;\n",
       "    }\n",
       "\n",
       "    .dataframe thead th {\n",
       "        text-align: right;\n",
       "    }\n",
       "</style>\n",
       "<table border=\"1\" class=\"dataframe\">\n",
       "  <thead>\n",
       "    <tr style=\"text-align: right;\">\n",
       "      <th></th>\n",
       "      <th>Date</th>\n",
       "      <th>PX_LAST</th>\n",
       "    </tr>\n",
       "  </thead>\n",
       "  <tbody>\n",
       "    <tr>\n",
       "      <th>0</th>\n",
       "      <td>6/30/2020</td>\n",
       "      <td>-31.4</td>\n",
       "    </tr>\n",
       "    <tr>\n",
       "      <th>1</th>\n",
       "      <td>3/31/2020</td>\n",
       "      <td>-5.0</td>\n",
       "    </tr>\n",
       "    <tr>\n",
       "      <th>2</th>\n",
       "      <td>12/31/2019</td>\n",
       "      <td>2.4</td>\n",
       "    </tr>\n",
       "    <tr>\n",
       "      <th>3</th>\n",
       "      <td>9/30/2019</td>\n",
       "      <td>2.6</td>\n",
       "    </tr>\n",
       "    <tr>\n",
       "      <th>4</th>\n",
       "      <td>6/30/2019</td>\n",
       "      <td>1.5</td>\n",
       "    </tr>\n",
       "  </tbody>\n",
       "</table>\n",
       "</div>"
      ],
      "text/plain": [
       "         Date  PX_LAST\n",
       "0   6/30/2020    -31.4\n",
       "1   3/31/2020     -5.0\n",
       "2  12/31/2019      2.4\n",
       "3   9/30/2019      2.6\n",
       "4   6/30/2019      1.5"
      ]
     },
     "execution_count": 388,
     "metadata": {},
     "output_type": "execute_result"
    }
   ],
   "source": [
    "#GDP data upload\n",
    "gdp = pd.read_csv('GDP.Q.22.csv')\n",
    "gdp.head()"
   ]
  },
  {
   "cell_type": "code",
   "execution_count": 389,
   "metadata": {},
   "outputs": [],
   "source": [
    "gdp.Date = pd.to_datetime(gdp.Date)\n",
    "gdp = gdp.set_index('Date').resample('M').interpolate(method = 'ffill', \n",
    "                                                       limit_direction = 'backward').fillna(method = 'ffill')\n"
   ]
  },
  {
   "cell_type": "code",
   "execution_count": 390,
   "metadata": {},
   "outputs": [
    {
     "data": {
      "text/html": [
       "<div>\n",
       "<style scoped>\n",
       "    .dataframe tbody tr th:only-of-type {\n",
       "        vertical-align: middle;\n",
       "    }\n",
       "\n",
       "    .dataframe tbody tr th {\n",
       "        vertical-align: top;\n",
       "    }\n",
       "\n",
       "    .dataframe thead th {\n",
       "        text-align: right;\n",
       "    }\n",
       "</style>\n",
       "<table border=\"1\" class=\"dataframe\">\n",
       "  <thead>\n",
       "    <tr style=\"text-align: right;\">\n",
       "      <th></th>\n",
       "      <th>PX_LAST</th>\n",
       "    </tr>\n",
       "    <tr>\n",
       "      <th>Date</th>\n",
       "      <th></th>\n",
       "    </tr>\n",
       "  </thead>\n",
       "  <tbody>\n",
       "    <tr>\n",
       "      <th>2005-03-31</th>\n",
       "      <td>4.5</td>\n",
       "    </tr>\n",
       "    <tr>\n",
       "      <th>2005-04-30</th>\n",
       "      <td>4.5</td>\n",
       "    </tr>\n",
       "    <tr>\n",
       "      <th>2005-05-31</th>\n",
       "      <td>4.5</td>\n",
       "    </tr>\n",
       "    <tr>\n",
       "      <th>2005-06-30</th>\n",
       "      <td>1.9</td>\n",
       "    </tr>\n",
       "    <tr>\n",
       "      <th>2005-07-31</th>\n",
       "      <td>1.9</td>\n",
       "    </tr>\n",
       "  </tbody>\n",
       "</table>\n",
       "</div>"
      ],
      "text/plain": [
       "            PX_LAST\n",
       "Date               \n",
       "2005-03-31      4.5\n",
       "2005-04-30      4.5\n",
       "2005-05-31      4.5\n",
       "2005-06-30      1.9\n",
       "2005-07-31      1.9"
      ]
     },
     "execution_count": 390,
     "metadata": {},
     "output_type": "execute_result"
    }
   ],
   "source": [
    "gdp.head()"
   ]
  },
  {
   "cell_type": "code",
   "execution_count": 391,
   "metadata": {},
   "outputs": [],
   "source": [
    "gdp = gdp.reset_index()\n",
    "gdp['Year'] = gdp.Date.dt.year\n",
    "gdp['Month'] = gdp.Date.dt.month\n",
    "gdp.rename(columns= {'PX_LAST':\"GDP\"},inplace = True)\n",
    "gdp = gdp.drop(columns = ['Date'])"
   ]
  },
  {
   "cell_type": "code",
   "execution_count": null,
   "metadata": {
    "collapsed": true,
    "jupyter": {
     "outputs_hidden": true
    }
   },
   "outputs": [],
   "source": []
  },
  {
   "cell_type": "code",
   "execution_count": 392,
   "metadata": {},
   "outputs": [],
   "source": [
    "#Combine those four dataset(gun shooting + employment + gdp + ny_empire)\n",
    "combined = pd.concat([full_data_group,unemployment_group.set_index(['Year','Month']),ny_empire,\n",
    "                     gdp.set_index(['Year','Month'])],\n",
    "                    join='inner',axis = 1,sort = True)\n"
   ]
  },
  {
   "cell_type": "code",
   "execution_count": 393,
   "metadata": {},
   "outputs": [],
   "source": [
    "final_data = pd.DataFrame(combined)"
   ]
  },
  {
   "cell_type": "code",
   "execution_count": 394,
   "metadata": {},
   "outputs": [
    {
     "data": {
      "text/html": [
       "<div>\n",
       "<style scoped>\n",
       "    .dataframe tbody tr th:only-of-type {\n",
       "        vertical-align: middle;\n",
       "    }\n",
       "\n",
       "    .dataframe tbody tr th {\n",
       "        vertical-align: top;\n",
       "    }\n",
       "\n",
       "    .dataframe thead th {\n",
       "        text-align: right;\n",
       "    }\n",
       "</style>\n",
       "<table border=\"1\" class=\"dataframe\">\n",
       "  <thead>\n",
       "    <tr style=\"text-align: right;\">\n",
       "      <th></th>\n",
       "      <th></th>\n",
       "      <th>VIC_AGE_18</th>\n",
       "      <th>VIC_AGE_18_24</th>\n",
       "      <th>VIC_AGE_25_44</th>\n",
       "      <th>VIC_AGE_45_64</th>\n",
       "      <th>VIC_AGE_65</th>\n",
       "      <th>VIC_SEX_MALE</th>\n",
       "      <th>VIC_SEX_FEMALE</th>\n",
       "      <th>VIC_RACE_BLACK</th>\n",
       "      <th>VIC_RACE_BLACK_HIS</th>\n",
       "      <th>VIC_RACE_WHITE_HIS</th>\n",
       "      <th>...</th>\n",
       "      <th>VIC_RACE_AMERICAN_ALA</th>\n",
       "      <th>BORO_QUEENS</th>\n",
       "      <th>BORO_BROOKLYN</th>\n",
       "      <th>BORO_BRONX</th>\n",
       "      <th>BORO_MANHATTAN</th>\n",
       "      <th>BORO_STATEN</th>\n",
       "      <th>Number_of_Incident</th>\n",
       "      <th>UnemploymentRate</th>\n",
       "      <th>NY_Empire</th>\n",
       "      <th>GDP</th>\n",
       "    </tr>\n",
       "  </thead>\n",
       "  <tbody>\n",
       "    <tr>\n",
       "      <th rowspan=\"5\" valign=\"top\">2006</th>\n",
       "      <th>1</th>\n",
       "      <td>15</td>\n",
       "      <td>58</td>\n",
       "      <td>51</td>\n",
       "      <td>5</td>\n",
       "      <td>0</td>\n",
       "      <td>123</td>\n",
       "      <td>6</td>\n",
       "      <td>86</td>\n",
       "      <td>6</td>\n",
       "      <td>24</td>\n",
       "      <td>...</td>\n",
       "      <td>0</td>\n",
       "      <td>18</td>\n",
       "      <td>49</td>\n",
       "      <td>40</td>\n",
       "      <td>16</td>\n",
       "      <td>6</td>\n",
       "      <td>129</td>\n",
       "      <td>4.7</td>\n",
       "      <td>17.5</td>\n",
       "      <td>2.6</td>\n",
       "    </tr>\n",
       "    <tr>\n",
       "      <th>2</th>\n",
       "      <td>11</td>\n",
       "      <td>38</td>\n",
       "      <td>40</td>\n",
       "      <td>8</td>\n",
       "      <td>0</td>\n",
       "      <td>91</td>\n",
       "      <td>6</td>\n",
       "      <td>63</td>\n",
       "      <td>4</td>\n",
       "      <td>21</td>\n",
       "      <td>...</td>\n",
       "      <td>0</td>\n",
       "      <td>23</td>\n",
       "      <td>34</td>\n",
       "      <td>22</td>\n",
       "      <td>16</td>\n",
       "      <td>2</td>\n",
       "      <td>97</td>\n",
       "      <td>4.8</td>\n",
       "      <td>20.9</td>\n",
       "      <td>2.6</td>\n",
       "    </tr>\n",
       "    <tr>\n",
       "      <th>3</th>\n",
       "      <td>14</td>\n",
       "      <td>46</td>\n",
       "      <td>36</td>\n",
       "      <td>6</td>\n",
       "      <td>0</td>\n",
       "      <td>96</td>\n",
       "      <td>6</td>\n",
       "      <td>74</td>\n",
       "      <td>1</td>\n",
       "      <td>22</td>\n",
       "      <td>...</td>\n",
       "      <td>0</td>\n",
       "      <td>9</td>\n",
       "      <td>48</td>\n",
       "      <td>27</td>\n",
       "      <td>14</td>\n",
       "      <td>4</td>\n",
       "      <td>102</td>\n",
       "      <td>4.7</td>\n",
       "      <td>33.2</td>\n",
       "      <td>5.4</td>\n",
       "    </tr>\n",
       "    <tr>\n",
       "      <th>4</th>\n",
       "      <td>21</td>\n",
       "      <td>64</td>\n",
       "      <td>62</td>\n",
       "      <td>7</td>\n",
       "      <td>2</td>\n",
       "      <td>144</td>\n",
       "      <td>12</td>\n",
       "      <td>103</td>\n",
       "      <td>2</td>\n",
       "      <td>47</td>\n",
       "      <td>...</td>\n",
       "      <td>0</td>\n",
       "      <td>29</td>\n",
       "      <td>54</td>\n",
       "      <td>46</td>\n",
       "      <td>20</td>\n",
       "      <td>7</td>\n",
       "      <td>156</td>\n",
       "      <td>4.7</td>\n",
       "      <td>18.5</td>\n",
       "      <td>5.4</td>\n",
       "    </tr>\n",
       "    <tr>\n",
       "      <th>5</th>\n",
       "      <td>29</td>\n",
       "      <td>73</td>\n",
       "      <td>63</td>\n",
       "      <td>6</td>\n",
       "      <td>2</td>\n",
       "      <td>161</td>\n",
       "      <td>12</td>\n",
       "      <td>126</td>\n",
       "      <td>3</td>\n",
       "      <td>40</td>\n",
       "      <td>...</td>\n",
       "      <td>0</td>\n",
       "      <td>18</td>\n",
       "      <td>80</td>\n",
       "      <td>46</td>\n",
       "      <td>27</td>\n",
       "      <td>2</td>\n",
       "      <td>173</td>\n",
       "      <td>4.6</td>\n",
       "      <td>18.6</td>\n",
       "      <td>5.4</td>\n",
       "    </tr>\n",
       "  </tbody>\n",
       "</table>\n",
       "<p>5 rows × 21 columns</p>\n",
       "</div>"
      ],
      "text/plain": [
       "        VIC_AGE_18  VIC_AGE_18_24  VIC_AGE_25_44  VIC_AGE_45_64  VIC_AGE_65  \\\n",
       "2006 1          15             58             51              5           0   \n",
       "     2          11             38             40              8           0   \n",
       "     3          14             46             36              6           0   \n",
       "     4          21             64             62              7           2   \n",
       "     5          29             73             63              6           2   \n",
       "\n",
       "        VIC_SEX_MALE  VIC_SEX_FEMALE  VIC_RACE_BLACK  VIC_RACE_BLACK_HIS  \\\n",
       "2006 1           123               6              86                   6   \n",
       "     2            91               6              63                   4   \n",
       "     3            96               6              74                   1   \n",
       "     4           144              12             103                   2   \n",
       "     5           161              12             126                   3   \n",
       "\n",
       "        VIC_RACE_WHITE_HIS  ...  VIC_RACE_AMERICAN_ALA  BORO_QUEENS  \\\n",
       "2006 1                  24  ...                      0           18   \n",
       "     2                  21  ...                      0           23   \n",
       "     3                  22  ...                      0            9   \n",
       "     4                  47  ...                      0           29   \n",
       "     5                  40  ...                      0           18   \n",
       "\n",
       "        BORO_BROOKLYN  BORO_BRONX  BORO_MANHATTAN  BORO_STATEN  \\\n",
       "2006 1             49          40              16            6   \n",
       "     2             34          22              16            2   \n",
       "     3             48          27              14            4   \n",
       "     4             54          46              20            7   \n",
       "     5             80          46              27            2   \n",
       "\n",
       "        Number_of_Incident  UnemploymentRate  NY_Empire  GDP  \n",
       "2006 1                 129               4.7       17.5  2.6  \n",
       "     2                  97               4.8       20.9  2.6  \n",
       "     3                 102               4.7       33.2  5.4  \n",
       "     4                 156               4.7       18.5  5.4  \n",
       "     5                 173               4.6       18.6  5.4  \n",
       "\n",
       "[5 rows x 21 columns]"
      ]
     },
     "execution_count": 394,
     "metadata": {},
     "output_type": "execute_result"
    }
   ],
   "source": [
    "final_data.head()"
   ]
  },
  {
   "cell_type": "code",
   "execution_count": 395,
   "metadata": {},
   "outputs": [
    {
     "data": {
      "image/png": "[encoded data removed]",
      "text/plain": [
       "<Figure size 864x576 with 2 Axes>"
      ]
     },
     "metadata": {},
     "output_type": "display_data"
    }
   ],
   "source": [
    "#Visualization of correlation\n",
    "import seaborn as sns\n",
    "import matplotlib.pyplot as plt\n",
    "corr = final_data.corr()\n",
    "mask = np.zeros_like(corr)\n",
    "mask[np.triu_indices_from(mask)] = True\n",
    "with sns.axes_style(\"white\"):\n",
    "    f, ax = plt.subplots(figsize=(12, 8))\n",
    "    ax = sns.heatmap(corr, mask=mask, vmax=.3, square=True, annot= True)"
   ]
  },
  {
   "cell_type": "code",
   "execution_count": null,
   "metadata": {},
   "outputs": [],
   "source": []
  },
  {
   "cell_type": "code",
   "execution_count": 396,
   "metadata": {},
   "outputs": [
    {
     "data": {
      "text/html": [
       "<div>\n",
       "<style scoped>\n",
       "    .dataframe tbody tr th:only-of-type {\n",
       "        vertical-align: middle;\n",
       "    }\n",
       "\n",
       "    .dataframe tbody tr th {\n",
       "        vertical-align: top;\n",
       "    }\n",
       "\n",
       "    .dataframe thead th {\n",
       "        text-align: right;\n",
       "    }\n",
       "</style>\n",
       "<table border=\"1\" class=\"dataframe\">\n",
       "  <thead>\n",
       "    <tr style=\"text-align: right;\">\n",
       "      <th></th>\n",
       "      <th>0</th>\n",
       "      <th>1</th>\n",
       "      <th>2</th>\n",
       "      <th>3</th>\n",
       "      <th>4</th>\n",
       "    </tr>\n",
       "  </thead>\n",
       "  <tbody>\n",
       "    <tr>\n",
       "      <th>VIC_AGE_18</th>\n",
       "      <td>15.0</td>\n",
       "      <td>11.0</td>\n",
       "      <td>14.0</td>\n",
       "      <td>21.0</td>\n",
       "      <td>29.0</td>\n",
       "    </tr>\n",
       "    <tr>\n",
       "      <th>VIC_AGE_18_24</th>\n",
       "      <td>58.0</td>\n",
       "      <td>38.0</td>\n",
       "      <td>46.0</td>\n",
       "      <td>64.0</td>\n",
       "      <td>73.0</td>\n",
       "    </tr>\n",
       "    <tr>\n",
       "      <th>VIC_AGE_25_44</th>\n",
       "      <td>51.0</td>\n",
       "      <td>40.0</td>\n",
       "      <td>36.0</td>\n",
       "      <td>62.0</td>\n",
       "      <td>63.0</td>\n",
       "    </tr>\n",
       "    <tr>\n",
       "      <th>VIC_AGE_45_64</th>\n",
       "      <td>5.0</td>\n",
       "      <td>8.0</td>\n",
       "      <td>6.0</td>\n",
       "      <td>7.0</td>\n",
       "      <td>6.0</td>\n",
       "    </tr>\n",
       "    <tr>\n",
       "      <th>VIC_AGE_65</th>\n",
       "      <td>0.0</td>\n",
       "      <td>0.0</td>\n",
       "      <td>0.0</td>\n",
       "      <td>2.0</td>\n",
       "      <td>2.0</td>\n",
       "    </tr>\n",
       "    <tr>\n",
       "      <th>VIC_SEX_MALE</th>\n",
       "      <td>123.0</td>\n",
       "      <td>91.0</td>\n",
       "      <td>96.0</td>\n",
       "      <td>144.0</td>\n",
       "      <td>161.0</td>\n",
       "    </tr>\n",
       "    <tr>\n",
       "      <th>VIC_SEX_FEMALE</th>\n",
       "      <td>6.0</td>\n",
       "      <td>6.0</td>\n",
       "      <td>6.0</td>\n",
       "      <td>12.0</td>\n",
       "      <td>12.0</td>\n",
       "    </tr>\n",
       "    <tr>\n",
       "      <th>VIC_RACE_BLACK</th>\n",
       "      <td>86.0</td>\n",
       "      <td>63.0</td>\n",
       "      <td>74.0</td>\n",
       "      <td>103.0</td>\n",
       "      <td>126.0</td>\n",
       "    </tr>\n",
       "    <tr>\n",
       "      <th>VIC_RACE_BLACK_HIS</th>\n",
       "      <td>6.0</td>\n",
       "      <td>4.0</td>\n",
       "      <td>1.0</td>\n",
       "      <td>2.0</td>\n",
       "      <td>3.0</td>\n",
       "    </tr>\n",
       "    <tr>\n",
       "      <th>VIC_RACE_WHITE_HIS</th>\n",
       "      <td>24.0</td>\n",
       "      <td>21.0</td>\n",
       "      <td>22.0</td>\n",
       "      <td>47.0</td>\n",
       "      <td>40.0</td>\n",
       "    </tr>\n",
       "    <tr>\n",
       "      <th>VIC_RACE_ASIAN_PAR</th>\n",
       "      <td>6.0</td>\n",
       "      <td>5.0</td>\n",
       "      <td>1.0</td>\n",
       "      <td>1.0</td>\n",
       "      <td>0.0</td>\n",
       "    </tr>\n",
       "    <tr>\n",
       "      <th>VIC_RACE_AMERICAN_ALA</th>\n",
       "      <td>0.0</td>\n",
       "      <td>0.0</td>\n",
       "      <td>0.0</td>\n",
       "      <td>0.0</td>\n",
       "      <td>0.0</td>\n",
       "    </tr>\n",
       "    <tr>\n",
       "      <th>BORO_QUEENS</th>\n",
       "      <td>18.0</td>\n",
       "      <td>23.0</td>\n",
       "      <td>9.0</td>\n",
       "      <td>29.0</td>\n",
       "      <td>18.0</td>\n",
       "    </tr>\n",
       "    <tr>\n",
       "      <th>BORO_BROOKLYN</th>\n",
       "      <td>49.0</td>\n",
       "      <td>34.0</td>\n",
       "      <td>48.0</td>\n",
       "      <td>54.0</td>\n",
       "      <td>80.0</td>\n",
       "    </tr>\n",
       "    <tr>\n",
       "      <th>BORO_BRONX</th>\n",
       "      <td>40.0</td>\n",
       "      <td>22.0</td>\n",
       "      <td>27.0</td>\n",
       "      <td>46.0</td>\n",
       "      <td>46.0</td>\n",
       "    </tr>\n",
       "    <tr>\n",
       "      <th>BORO_MANHATTAN</th>\n",
       "      <td>16.0</td>\n",
       "      <td>16.0</td>\n",
       "      <td>14.0</td>\n",
       "      <td>20.0</td>\n",
       "      <td>27.0</td>\n",
       "    </tr>\n",
       "    <tr>\n",
       "      <th>BORO_STATEN</th>\n",
       "      <td>6.0</td>\n",
       "      <td>2.0</td>\n",
       "      <td>4.0</td>\n",
       "      <td>7.0</td>\n",
       "      <td>2.0</td>\n",
       "    </tr>\n",
       "    <tr>\n",
       "      <th>Number_of_Incident</th>\n",
       "      <td>129.0</td>\n",
       "      <td>97.0</td>\n",
       "      <td>102.0</td>\n",
       "      <td>156.0</td>\n",
       "      <td>173.0</td>\n",
       "    </tr>\n",
       "    <tr>\n",
       "      <th>UnemploymentRate</th>\n",
       "      <td>4.7</td>\n",
       "      <td>4.8</td>\n",
       "      <td>4.7</td>\n",
       "      <td>4.7</td>\n",
       "      <td>4.6</td>\n",
       "    </tr>\n",
       "    <tr>\n",
       "      <th>NY_Empire</th>\n",
       "      <td>17.5</td>\n",
       "      <td>20.9</td>\n",
       "      <td>33.2</td>\n",
       "      <td>18.5</td>\n",
       "      <td>18.6</td>\n",
       "    </tr>\n",
       "    <tr>\n",
       "      <th>GDP</th>\n",
       "      <td>2.6</td>\n",
       "      <td>2.6</td>\n",
       "      <td>5.4</td>\n",
       "      <td>5.4</td>\n",
       "      <td>5.4</td>\n",
       "    </tr>\n",
       "  </tbody>\n",
       "</table>\n",
       "</div>"
      ],
      "text/plain": [
       "                           0     1      2      3      4\n",
       "VIC_AGE_18              15.0  11.0   14.0   21.0   29.0\n",
       "VIC_AGE_18_24           58.0  38.0   46.0   64.0   73.0\n",
       "VIC_AGE_25_44           51.0  40.0   36.0   62.0   63.0\n",
       "VIC_AGE_45_64            5.0   8.0    6.0    7.0    6.0\n",
       "VIC_AGE_65               0.0   0.0    0.0    2.0    2.0\n",
       "VIC_SEX_MALE           123.0  91.0   96.0  144.0  161.0\n",
       "VIC_SEX_FEMALE           6.0   6.0    6.0   12.0   12.0\n",
       "VIC_RACE_BLACK          86.0  63.0   74.0  103.0  126.0\n",
       "VIC_RACE_BLACK_HIS       6.0   4.0    1.0    2.0    3.0\n",
       "VIC_RACE_WHITE_HIS      24.0  21.0   22.0   47.0   40.0\n",
       "VIC_RACE_ASIAN_PAR       6.0   5.0    1.0    1.0    0.0\n",
       "VIC_RACE_AMERICAN_ALA    0.0   0.0    0.0    0.0    0.0\n",
       "BORO_QUEENS             18.0  23.0    9.0   29.0   18.0\n",
       "BORO_BROOKLYN           49.0  34.0   48.0   54.0   80.0\n",
       "BORO_BRONX              40.0  22.0   27.0   46.0   46.0\n",
       "BORO_MANHATTAN          16.0  16.0   14.0   20.0   27.0\n",
       "BORO_STATEN              6.0   2.0    4.0    7.0    2.0\n",
       "Number_of_Incident     129.0  97.0  102.0  156.0  173.0\n",
       "UnemploymentRate         4.7   4.8    4.7    4.7    4.6\n",
       "NY_Empire               17.5  20.9   33.2   18.5   18.6\n",
       "GDP                      2.6   2.6    5.4    5.4    5.4"
      ]
     },
     "execution_count": 396,
     "metadata": {},
     "output_type": "execute_result"
    }
   ],
   "source": [
    "full_df = final_data.reset_index().drop(columns = ['level_0', 'level_1'])\n",
    "full_df.head().T"
   ]
  },
  {
   "cell_type": "code",
   "execution_count": 397,
   "metadata": {},
   "outputs": [],
   "source": [
    "y = full_df.Number_of_Incident\n",
    "X = full_df.drop(columns = ['Number_of_Incident'])"
   ]
  },
  {
   "cell_type": "code",
   "execution_count": 398,
   "metadata": {},
   "outputs": [
    {
     "data": {
      "text/html": [
       "<div>\n",
       "<style scoped>\n",
       "    .dataframe tbody tr th:only-of-type {\n",
       "        vertical-align: middle;\n",
       "    }\n",
       "\n",
       "    .dataframe tbody tr th {\n",
       "        vertical-align: top;\n",
       "    }\n",
       "\n",
       "    .dataframe thead th {\n",
       "        text-align: right;\n",
       "    }\n",
       "</style>\n",
       "<table border=\"1\" class=\"dataframe\">\n",
       "  <thead>\n",
       "    <tr style=\"text-align: right;\">\n",
       "      <th></th>\n",
       "      <th>0</th>\n",
       "      <th>1</th>\n",
       "      <th>2</th>\n",
       "      <th>3</th>\n",
       "      <th>4</th>\n",
       "    </tr>\n",
       "  </thead>\n",
       "  <tbody>\n",
       "    <tr>\n",
       "      <th>VIC_AGE_18</th>\n",
       "      <td>15.0</td>\n",
       "      <td>11.0</td>\n",
       "      <td>14.0</td>\n",
       "      <td>21.0</td>\n",
       "      <td>29.0</td>\n",
       "    </tr>\n",
       "    <tr>\n",
       "      <th>VIC_AGE_18_24</th>\n",
       "      <td>58.0</td>\n",
       "      <td>38.0</td>\n",
       "      <td>46.0</td>\n",
       "      <td>64.0</td>\n",
       "      <td>73.0</td>\n",
       "    </tr>\n",
       "    <tr>\n",
       "      <th>VIC_AGE_25_44</th>\n",
       "      <td>51.0</td>\n",
       "      <td>40.0</td>\n",
       "      <td>36.0</td>\n",
       "      <td>62.0</td>\n",
       "      <td>63.0</td>\n",
       "    </tr>\n",
       "    <tr>\n",
       "      <th>VIC_AGE_45_64</th>\n",
       "      <td>5.0</td>\n",
       "      <td>8.0</td>\n",
       "      <td>6.0</td>\n",
       "      <td>7.0</td>\n",
       "      <td>6.0</td>\n",
       "    </tr>\n",
       "    <tr>\n",
       "      <th>VIC_AGE_65</th>\n",
       "      <td>0.0</td>\n",
       "      <td>0.0</td>\n",
       "      <td>0.0</td>\n",
       "      <td>2.0</td>\n",
       "      <td>2.0</td>\n",
       "    </tr>\n",
       "    <tr>\n",
       "      <th>VIC_SEX_MALE</th>\n",
       "      <td>123.0</td>\n",
       "      <td>91.0</td>\n",
       "      <td>96.0</td>\n",
       "      <td>144.0</td>\n",
       "      <td>161.0</td>\n",
       "    </tr>\n",
       "    <tr>\n",
       "      <th>VIC_SEX_FEMALE</th>\n",
       "      <td>6.0</td>\n",
       "      <td>6.0</td>\n",
       "      <td>6.0</td>\n",
       "      <td>12.0</td>\n",
       "      <td>12.0</td>\n",
       "    </tr>\n",
       "    <tr>\n",
       "      <th>VIC_RACE_BLACK</th>\n",
       "      <td>86.0</td>\n",
       "      <td>63.0</td>\n",
       "      <td>74.0</td>\n",
       "      <td>103.0</td>\n",
       "      <td>126.0</td>\n",
       "    </tr>\n",
       "    <tr>\n",
       "      <th>VIC_RACE_BLACK_HIS</th>\n",
       "      <td>6.0</td>\n",
       "      <td>4.0</td>\n",
       "      <td>1.0</td>\n",
       "      <td>2.0</td>\n",
       "      <td>3.0</td>\n",
       "    </tr>\n",
       "    <tr>\n",
       "      <th>VIC_RACE_WHITE_HIS</th>\n",
       "      <td>24.0</td>\n",
       "      <td>21.0</td>\n",
       "      <td>22.0</td>\n",
       "      <td>47.0</td>\n",
       "      <td>40.0</td>\n",
       "    </tr>\n",
       "    <tr>\n",
       "      <th>VIC_RACE_ASIAN_PAR</th>\n",
       "      <td>6.0</td>\n",
       "      <td>5.0</td>\n",
       "      <td>1.0</td>\n",
       "      <td>1.0</td>\n",
       "      <td>0.0</td>\n",
       "    </tr>\n",
       "    <tr>\n",
       "      <th>VIC_RACE_AMERICAN_ALA</th>\n",
       "      <td>0.0</td>\n",
       "      <td>0.0</td>\n",
       "      <td>0.0</td>\n",
       "      <td>0.0</td>\n",
       "      <td>0.0</td>\n",
       "    </tr>\n",
       "    <tr>\n",
       "      <th>BORO_QUEENS</th>\n",
       "      <td>18.0</td>\n",
       "      <td>23.0</td>\n",
       "      <td>9.0</td>\n",
       "      <td>29.0</td>\n",
       "      <td>18.0</td>\n",
       "    </tr>\n",
       "    <tr>\n",
       "      <th>BORO_BROOKLYN</th>\n",
       "      <td>49.0</td>\n",
       "      <td>34.0</td>\n",
       "      <td>48.0</td>\n",
       "      <td>54.0</td>\n",
       "      <td>80.0</td>\n",
       "    </tr>\n",
       "    <tr>\n",
       "      <th>BORO_BRONX</th>\n",
       "      <td>40.0</td>\n",
       "      <td>22.0</td>\n",
       "      <td>27.0</td>\n",
       "      <td>46.0</td>\n",
       "      <td>46.0</td>\n",
       "    </tr>\n",
       "    <tr>\n",
       "      <th>BORO_MANHATTAN</th>\n",
       "      <td>16.0</td>\n",
       "      <td>16.0</td>\n",
       "      <td>14.0</td>\n",
       "      <td>20.0</td>\n",
       "      <td>27.0</td>\n",
       "    </tr>\n",
       "    <tr>\n",
       "      <th>BORO_STATEN</th>\n",
       "      <td>6.0</td>\n",
       "      <td>2.0</td>\n",
       "      <td>4.0</td>\n",
       "      <td>7.0</td>\n",
       "      <td>2.0</td>\n",
       "    </tr>\n",
       "    <tr>\n",
       "      <th>UnemploymentRate</th>\n",
       "      <td>4.7</td>\n",
       "      <td>4.8</td>\n",
       "      <td>4.7</td>\n",
       "      <td>4.7</td>\n",
       "      <td>4.6</td>\n",
       "    </tr>\n",
       "    <tr>\n",
       "      <th>NY_Empire</th>\n",
       "      <td>17.5</td>\n",
       "      <td>20.9</td>\n",
       "      <td>33.2</td>\n",
       "      <td>18.5</td>\n",
       "      <td>18.6</td>\n",
       "    </tr>\n",
       "    <tr>\n",
       "      <th>GDP</th>\n",
       "      <td>2.6</td>\n",
       "      <td>2.6</td>\n",
       "      <td>5.4</td>\n",
       "      <td>5.4</td>\n",
       "      <td>5.4</td>\n",
       "    </tr>\n",
       "  </tbody>\n",
       "</table>\n",
       "</div>"
      ],
      "text/plain": [
       "                           0     1     2      3      4\n",
       "VIC_AGE_18              15.0  11.0  14.0   21.0   29.0\n",
       "VIC_AGE_18_24           58.0  38.0  46.0   64.0   73.0\n",
       "VIC_AGE_25_44           51.0  40.0  36.0   62.0   63.0\n",
       "VIC_AGE_45_64            5.0   8.0   6.0    7.0    6.0\n",
       "VIC_AGE_65               0.0   0.0   0.0    2.0    2.0\n",
       "VIC_SEX_MALE           123.0  91.0  96.0  144.0  161.0\n",
       "VIC_SEX_FEMALE           6.0   6.0   6.0   12.0   12.0\n",
       "VIC_RACE_BLACK          86.0  63.0  74.0  103.0  126.0\n",
       "VIC_RACE_BLACK_HIS       6.0   4.0   1.0    2.0    3.0\n",
       "VIC_RACE_WHITE_HIS      24.0  21.0  22.0   47.0   40.0\n",
       "VIC_RACE_ASIAN_PAR       6.0   5.0   1.0    1.0    0.0\n",
       "VIC_RACE_AMERICAN_ALA    0.0   0.0   0.0    0.0    0.0\n",
       "BORO_QUEENS             18.0  23.0   9.0   29.0   18.0\n",
       "BORO_BROOKLYN           49.0  34.0  48.0   54.0   80.0\n",
       "BORO_BRONX              40.0  22.0  27.0   46.0   46.0\n",
       "BORO_MANHATTAN          16.0  16.0  14.0   20.0   27.0\n",
       "BORO_STATEN              6.0   2.0   4.0    7.0    2.0\n",
       "UnemploymentRate         4.7   4.8   4.7    4.7    4.6\n",
       "NY_Empire               17.5  20.9  33.2   18.5   18.6\n",
       "GDP                      2.6   2.6   5.4    5.4    5.4"
      ]
     },
     "execution_count": 398,
     "metadata": {},
     "output_type": "execute_result"
    }
   ],
   "source": [
    "X.head().T"
   ]
  },
  {
   "cell_type": "code",
   "execution_count": null,
   "metadata": {},
   "outputs": [],
   "source": []
  },
  {
   "cell_type": "code",
   "execution_count": 399,
   "metadata": {},
   "outputs": [],
   "source": [
    "## Fred ##"
   ]
  },
  {
   "cell_type": "code",
   "execution_count": null,
   "metadata": {},
   "outputs": [],
   "source": []
  },
  {
   "cell_type": "code",
   "execution_count": 400,
   "metadata": {},
   "outputs": [
    {
     "data": {
      "image/png": "[encoded data removed]",
      "text/plain": [
       "<Figure size 432x288 with 1 Axes>"
      ]
     },
     "metadata": {
      "needs_background": "light"
     },
     "output_type": "display_data"
    }
   ],
   "source": [
    "#Simple linear regression\n",
    "from sklearn.model_selection import train_test_split\n",
    "\n",
    "X_train, X_test, y_train, y_test = train_test_split(X, y, test_size = 0.2, random_state =42)\n",
    "\n",
    "\n",
    "from sklearn.linear_model import LinearRegression\n",
    "model = LinearRegression(n_jobs =1)\n",
    "model.fit(X_train, y_train)\n",
    "\n",
    "plt.scatter(model.predict(X_train), model.predict(X_train) - y_train, c = \"blue\", label = \"training data\")\n",
    "plt.scatter(model.predict(X_test), model.predict(X_test) - y_test, c = \"orange\", label = \"testing data\")\n",
    "plt.title(\"Residual Plot\")\n",
    "plt.show()"
   ]
  },
  {
   "cell_type": "code",
   "execution_count": 401,
   "metadata": {},
   "outputs": [
    {
     "name": "stdout",
     "output_type": "stream",
     "text": [
      "1.0\n",
      "1.771375893232279e-27\n",
      "4.208771665500849e-14\n",
      "1.0\n"
     ]
    }
   ],
   "source": [
    "from sklearn.metrics import mean_squared_error, r2_score\n",
    "import numpy as np\n",
    "\n",
    "#score = model.score(X, y, sample_weight=None)\n",
    "r2 = model.score(X_train, model.predict(X_train))\n",
    "mse = mean_squared_error(y_test, model.predict(X_test)) #\n",
    "rmse = np.sqrt(mse)\n",
    "r2_adjusted = 1 - (1-r2)*(len(y)-1)/(len(y)-X.shape[1]-1)\n",
    "#std = np.std(y)\n",
    "print(r2)\n",
    "print(mse)\n",
    "print(rmse)\n",
    "print(r2_adjusted)"
   ]
  },
  {
   "cell_type": "code",
   "execution_count": 402,
   "metadata": {},
   "outputs": [],
   "source": [
    "# PCA \n",
    "from sklearn.preprocessing import StandardScaler\n",
    "from sklearn.decomposition import PCA\n"
   ]
  },
  {
   "cell_type": "code",
   "execution_count": 403,
   "metadata": {},
   "outputs": [
    {
     "data": {
      "text/plain": [
       "0    129\n",
       "1     97\n",
       "2    102\n",
       "3    156\n",
       "4    173\n",
       "Name: Number_of_Incident, dtype: int64"
      ]
     },
     "execution_count": 403,
     "metadata": {},
     "output_type": "execute_result"
    }
   ],
   "source": [
    "y.head()"
   ]
  },
  {
   "cell_type": "code",
   "execution_count": 404,
   "metadata": {},
   "outputs": [
    {
     "data": {
      "text/plain": [
       "array([[ 0.11866273,  0.38884457, -0.21035248, -0.85175775, -0.88195388,\n",
       "         0.15542101, -0.85980998, -0.15061989, -0.86731795,  0.58845059,\n",
       "         2.51956053, -0.21021383, -0.13985976, -0.15466149,  0.21723795,\n",
       "         0.02365833,  0.81157133, -0.69998439,  0.75599191,  0.31602605],\n",
       "       [-0.33512441, -0.51993925, -0.75222952, -0.06342877, -0.88195388,\n",
       "        -0.56874987, -0.85980998, -0.76444962, -1.14195549,  0.27210537,\n",
       "         1.93502249, -0.21021383,  0.44513057, -0.78935721, -0.93206823,\n",
       "         0.02365833, -0.68671421, -0.65499093,  0.98064773,  0.31602605]])"
      ]
     },
     "execution_count": 404,
     "metadata": {},
     "output_type": "execute_result"
    }
   ],
   "source": [
    "X_scaled = StandardScaler().fit_transform(X)\n",
    "X_scaled[0:2]"
   ]
  },
  {
   "cell_type": "code",
   "execution_count": 405,
   "metadata": {},
   "outputs": [],
   "source": [
    "#pd.DataFrame(X_scaled).to_csv(\"X_scaled.csv\")\n",
    "#y.to_csv('y.csv')"
   ]
  },
  {
   "cell_type": "code",
   "execution_count": 406,
   "metadata": {},
   "outputs": [],
   "source": [
    "# determine the number of principal components by linear regression\n",
    "def pcr(X,y,n):\n",
    "    from sklearn.linear_model import LinearRegression\n",
    "    from sklearn.model_selection import cross_val_predict\n",
    "    from sklearn.metrics import r2_score,mean_squared_error\n",
    "    score_c = []\n",
    "    score_cv= []\n",
    "    mse_c = []\n",
    "    mse_cv = []\n",
    "    for i in range(1,n+1):\n",
    "        pca = PCA(n_components= i )\n",
    "        X_pca = pca.fit_transform(X)\n",
    "\n",
    "        regr = LinearRegression()\n",
    "# Fit\n",
    "        regr.fit(X_pca, y)\n",
    "# Calibration\n",
    "        y_c = regr.predict(X_pca)\n",
    "# Cross-validation\n",
    "        y_cv = cross_val_predict(regr, X_pca, y, cv=100)\n",
    "# Calculate scores for calibration and cross-validation\n",
    "        score_c.append(r2_score(y, y_c))\n",
    "        score_cv.append(r2_score(y, y_cv))\n",
    "# Calculate mean square error for calibration and cross validation\n",
    "        mse_c.append(mean_squared_error(y, y_c))\n",
    "        mse_cv.append(mean_squared_error(y, y_cv))\n",
    "    return(y_cv, score_c, score_cv, mse_c, mse_cv)"
   ]
  },
  {
   "cell_type": "code",
   "execution_count": 407,
   "metadata": {},
   "outputs": [],
   "source": [
    "y_cv, score_c, score_cv, mse_c, mse_cv = pcr(X_scaled,y,20)"
   ]
  },
  {
   "cell_type": "code",
   "execution_count": 408,
   "metadata": {},
   "outputs": [
    {
     "data": {
      "text/plain": [
       "<matplotlib.axes._subplots.AxesSubplot at 0x11fa88ee8c8>"
      ]
     },
     "execution_count": 408,
     "metadata": {},
     "output_type": "execute_result"
    },
    {
     "data": {
      "image/png": "[encoded data removed]",
      "text/plain": [
       "<Figure size 864x576 with 1 Axes>"
      ]
     },
     "metadata": {
      "needs_background": "light"
     },
     "output_type": "display_data"
    }
   ],
   "source": [
    "mse = {\"MSE for regresion\": mse_c, \"MSE for cross_validation\": mse_cv}\n",
    "mse = pd.DataFrame(mse)\n",
    "mse.plot(figsize = (12,8))"
   ]
  },
  {
   "cell_type": "code",
   "execution_count": 409,
   "metadata": {},
   "outputs": [
    {
     "data": {
      "text/plain": [
       "<matplotlib.axes._subplots.AxesSubplot at 0x11fa8592888>"
      ]
     },
     "execution_count": 409,
     "metadata": {},
     "output_type": "execute_result"
    },
    {
     "data": {
      "image/png": "[encoded data removed]",
      "text/plain": [
       "<Figure size 864x576 with 1 Axes>"
      ]
     },
     "metadata": {
      "needs_background": "light"
     },
     "output_type": "display_data"
    }
   ],
   "source": [
    "r2 = {\"r2 for regresion\": score_c, \"r2 for cross_validation\": score_cv}\n",
    "r2 = pd.DataFrame(r2)\n",
    "r2.plot(figsize = (12, 8))"
   ]
  },
  {
   "cell_type": "code",
   "execution_count": null,
   "metadata": {},
   "outputs": [],
   "source": []
  },
  {
   "cell_type": "code",
   "execution_count": 410,
   "metadata": {},
   "outputs": [
    {
     "ename": "LinAlgError",
     "evalue": "SVD did not converge",
     "output_type": "error",
     "traceback": [
      "\u001b[1;31m---------------------------------------------------------------------------\u001b[0m",
      "\u001b[1;31mLinAlgError\u001b[0m                               Traceback (most recent call last)",
      "\u001b[1;32m<ipython-input-410-941ea129a945>\u001b[0m in \u001b[0;36m<module>\u001b[1;34m\u001b[0m\n\u001b[0;32m      1\u001b[0m \u001b[0mpca\u001b[0m \u001b[1;33m=\u001b[0m \u001b[0mPCA\u001b[0m\u001b[1;33m(\u001b[0m\u001b[0mn_components\u001b[0m\u001b[1;33m=\u001b[0m\u001b[1;36m13\u001b[0m\u001b[1;33m)\u001b[0m\u001b[1;33m\u001b[0m\u001b[1;33m\u001b[0m\u001b[0m\n\u001b[1;32m----> 2\u001b[1;33m \u001b[0mX_scaled_pca\u001b[0m \u001b[1;33m=\u001b[0m \u001b[0mpca\u001b[0m\u001b[1;33m.\u001b[0m\u001b[0mfit_transform\u001b[0m\u001b[1;33m(\u001b[0m\u001b[0mX_scaled\u001b[0m\u001b[1;33m)\u001b[0m\u001b[1;33m\u001b[0m\u001b[1;33m\u001b[0m\u001b[0m\n\u001b[0m",
      "\u001b[1;32m~\\anaconda3\\lib\\site-packages\\sklearn\\decomposition\\_pca.py\u001b[0m in \u001b[0;36mfit_transform\u001b[1;34m(self, X, y)\u001b[0m\n\u001b[0;32m    374\u001b[0m         \u001b[0mC\u001b[0m\u001b[1;33m-\u001b[0m\u001b[0mordered\u001b[0m \u001b[0marray\u001b[0m\u001b[1;33m,\u001b[0m \u001b[0muse\u001b[0m \u001b[1;34m'np.ascontiguousarray'\u001b[0m\u001b[1;33m.\u001b[0m\u001b[1;33m\u001b[0m\u001b[1;33m\u001b[0m\u001b[0m\n\u001b[0;32m    375\u001b[0m         \"\"\"\n\u001b[1;32m--> 376\u001b[1;33m         \u001b[0mU\u001b[0m\u001b[1;33m,\u001b[0m \u001b[0mS\u001b[0m\u001b[1;33m,\u001b[0m \u001b[0mV\u001b[0m \u001b[1;33m=\u001b[0m \u001b[0mself\u001b[0m\u001b[1;33m.\u001b[0m\u001b[0m_fit\u001b[0m\u001b[1;33m(\u001b[0m\u001b[0mX\u001b[0m\u001b[1;33m)\u001b[0m\u001b[1;33m\u001b[0m\u001b[1;33m\u001b[0m\u001b[0m\n\u001b[0m\u001b[0;32m    377\u001b[0m         \u001b[0mU\u001b[0m \u001b[1;33m=\u001b[0m \u001b[0mU\u001b[0m\u001b[1;33m[\u001b[0m\u001b[1;33m:\u001b[0m\u001b[1;33m,\u001b[0m \u001b[1;33m:\u001b[0m\u001b[0mself\u001b[0m\u001b[1;33m.\u001b[0m\u001b[0mn_components_\u001b[0m\u001b[1;33m]\u001b[0m\u001b[1;33m\u001b[0m\u001b[1;33m\u001b[0m\u001b[0m\n\u001b[0;32m    378\u001b[0m \u001b[1;33m\u001b[0m\u001b[0m\n",
      "\u001b[1;32m~\\anaconda3\\lib\\site-packages\\sklearn\\decomposition\\_pca.py\u001b[0m in \u001b[0;36m_fit\u001b[1;34m(self, X)\u001b[0m\n\u001b[0;32m    421\u001b[0m         \u001b[1;31m# Call different fits for either full or truncated SVD\u001b[0m\u001b[1;33m\u001b[0m\u001b[1;33m\u001b[0m\u001b[1;33m\u001b[0m\u001b[0m\n\u001b[0;32m    422\u001b[0m         \u001b[1;32mif\u001b[0m \u001b[0mself\u001b[0m\u001b[1;33m.\u001b[0m\u001b[0m_fit_svd_solver\u001b[0m \u001b[1;33m==\u001b[0m \u001b[1;34m'full'\u001b[0m\u001b[1;33m:\u001b[0m\u001b[1;33m\u001b[0m\u001b[1;33m\u001b[0m\u001b[0m\n\u001b[1;32m--> 423\u001b[1;33m             \u001b[1;32mreturn\u001b[0m \u001b[0mself\u001b[0m\u001b[1;33m.\u001b[0m\u001b[0m_fit_full\u001b[0m\u001b[1;33m(\u001b[0m\u001b[0mX\u001b[0m\u001b[1;33m,\u001b[0m \u001b[0mn_components\u001b[0m\u001b[1;33m)\u001b[0m\u001b[1;33m\u001b[0m\u001b[1;33m\u001b[0m\u001b[0m\n\u001b[0m\u001b[0;32m    424\u001b[0m         \u001b[1;32melif\u001b[0m \u001b[0mself\u001b[0m\u001b[1;33m.\u001b[0m\u001b[0m_fit_svd_solver\u001b[0m \u001b[1;32min\u001b[0m \u001b[1;33m[\u001b[0m\u001b[1;34m'arpack'\u001b[0m\u001b[1;33m,\u001b[0m \u001b[1;34m'randomized'\u001b[0m\u001b[1;33m]\u001b[0m\u001b[1;33m:\u001b[0m\u001b[1;33m\u001b[0m\u001b[1;33m\u001b[0m\u001b[0m\n\u001b[0;32m    425\u001b[0m             \u001b[1;32mreturn\u001b[0m \u001b[0mself\u001b[0m\u001b[1;33m.\u001b[0m\u001b[0m_fit_truncated\u001b[0m\u001b[1;33m(\u001b[0m\u001b[0mX\u001b[0m\u001b[1;33m,\u001b[0m \u001b[0mn_components\u001b[0m\u001b[1;33m,\u001b[0m \u001b[0mself\u001b[0m\u001b[1;33m.\u001b[0m\u001b[0m_fit_svd_solver\u001b[0m\u001b[1;33m)\u001b[0m\u001b[1;33m\u001b[0m\u001b[1;33m\u001b[0m\u001b[0m\n",
      "\u001b[1;32m~\\anaconda3\\lib\\site-packages\\sklearn\\decomposition\\_pca.py\u001b[0m in \u001b[0;36m_fit_full\u001b[1;34m(self, X, n_components)\u001b[0m\n\u001b[0;32m    452\u001b[0m         \u001b[0mX\u001b[0m \u001b[1;33m-=\u001b[0m \u001b[0mself\u001b[0m\u001b[1;33m.\u001b[0m\u001b[0mmean_\u001b[0m\u001b[1;33m\u001b[0m\u001b[1;33m\u001b[0m\u001b[0m\n\u001b[0;32m    453\u001b[0m \u001b[1;33m\u001b[0m\u001b[0m\n\u001b[1;32m--> 454\u001b[1;33m         \u001b[0mU\u001b[0m\u001b[1;33m,\u001b[0m \u001b[0mS\u001b[0m\u001b[1;33m,\u001b[0m \u001b[0mV\u001b[0m \u001b[1;33m=\u001b[0m \u001b[0mlinalg\u001b[0m\u001b[1;33m.\u001b[0m\u001b[0msvd\u001b[0m\u001b[1;33m(\u001b[0m\u001b[0mX\u001b[0m\u001b[1;33m,\u001b[0m \u001b[0mfull_matrices\u001b[0m\u001b[1;33m=\u001b[0m\u001b[1;32mFalse\u001b[0m\u001b[1;33m)\u001b[0m\u001b[1;33m\u001b[0m\u001b[1;33m\u001b[0m\u001b[0m\n\u001b[0m\u001b[0;32m    455\u001b[0m         \u001b[1;31m# flip eigenvectors' sign to enforce deterministic output\u001b[0m\u001b[1;33m\u001b[0m\u001b[1;33m\u001b[0m\u001b[1;33m\u001b[0m\u001b[0m\n\u001b[0;32m    456\u001b[0m         \u001b[0mU\u001b[0m\u001b[1;33m,\u001b[0m \u001b[0mV\u001b[0m \u001b[1;33m=\u001b[0m \u001b[0msvd_flip\u001b[0m\u001b[1;33m(\u001b[0m\u001b[0mU\u001b[0m\u001b[1;33m,\u001b[0m \u001b[0mV\u001b[0m\u001b[1;33m)\u001b[0m\u001b[1;33m\u001b[0m\u001b[1;33m\u001b[0m\u001b[0m\n",
      "\u001b[1;32m~\\anaconda3\\lib\\site-packages\\scipy\\linalg\\decomp_svd.py\u001b[0m in \u001b[0;36msvd\u001b[1;34m(a, full_matrices, compute_uv, overwrite_a, check_finite, lapack_driver)\u001b[0m\n\u001b[0;32m    130\u001b[0m \u001b[1;33m\u001b[0m\u001b[0m\n\u001b[0;32m    131\u001b[0m     \u001b[1;32mif\u001b[0m \u001b[0minfo\u001b[0m \u001b[1;33m>\u001b[0m \u001b[1;36m0\u001b[0m\u001b[1;33m:\u001b[0m\u001b[1;33m\u001b[0m\u001b[1;33m\u001b[0m\u001b[0m\n\u001b[1;32m--> 132\u001b[1;33m         \u001b[1;32mraise\u001b[0m \u001b[0mLinAlgError\u001b[0m\u001b[1;33m(\u001b[0m\u001b[1;34m\"SVD did not converge\"\u001b[0m\u001b[1;33m)\u001b[0m\u001b[1;33m\u001b[0m\u001b[1;33m\u001b[0m\u001b[0m\n\u001b[0m\u001b[0;32m    133\u001b[0m     \u001b[1;32mif\u001b[0m \u001b[0minfo\u001b[0m \u001b[1;33m<\u001b[0m \u001b[1;36m0\u001b[0m\u001b[1;33m:\u001b[0m\u001b[1;33m\u001b[0m\u001b[1;33m\u001b[0m\u001b[0m\n\u001b[0;32m    134\u001b[0m         raise ValueError('illegal value in %d-th argument of internal gesdd'\n",
      "\u001b[1;31mLinAlgError\u001b[0m: SVD did not converge"
     ]
    }
   ],
   "source": [
    "pca = PCA(n_components=13)\n",
    "X_scaled_pca = pca.fit_transform(X_scaled)\n"
   ]
  },
  {
   "cell_type": "code",
   "execution_count": null,
   "metadata": {},
   "outputs": [],
   "source": [
    "df_pca = pd.DataFrame(\n",
    "    data=X_scaled_pca, columns=[\"Principal Component 1\", \"Principal Component 2\",\"Principal Component 3\",\n",
    "                               \"Principal Component 4\",\"Principal Component 5\",\"Principal Component 6\",\n",
    "                               \"Principal Component 7\",\"Principal Component 8\",\"Principal Component 9\",\n",
    "                               \"Principal Component 10\",\"Principal Component 11\",\"Principal Component 12\",\n",
    "                                \"Principal Component 13\"]\n",
    ")\n",
    "df_pca.head()"
   ]
  },
  {
   "cell_type": "code",
   "execution_count": null,
   "metadata": {},
   "outputs": [],
   "source": [
    "df_pca.shape"
   ]
  },
  {
   "cell_type": "code",
   "execution_count": null,
   "metadata": {},
   "outputs": [],
   "source": [
    "y.shape"
   ]
  },
  {
   "cell_type": "code",
   "execution_count": null,
   "metadata": {},
   "outputs": [],
   "source": [
    "np.round(pca.explained_variance_ratio_, decimals=4)*100"
   ]
  },
  {
   "cell_type": "code",
   "execution_count": null,
   "metadata": {},
   "outputs": [],
   "source": [
    "np.cumsum(np.round(pca.explained_variance_ratio_, decimals=4)*100)\n",
    "\n"
   ]
  },
  {
   "cell_type": "code",
   "execution_count": null,
   "metadata": {},
   "outputs": [],
   "source": [
    "df_variance = {\"Variance\": np.round(pca.explained_variance_ratio_, decimals=4)*100, \n",
    "            \"Accumulative Variance\": np.cumsum(np.round(pca.explained_variance_ratio_, decimals=4)*100)}"
   ]
  },
  {
   "cell_type": "code",
   "execution_count": null,
   "metadata": {},
   "outputs": [],
   "source": [
    "df_variance = pd.DataFrame(df_variance,index = df_pca.columns)\n",
    "df_variance"
   ]
  },
  {
   "cell_type": "code",
   "execution_count": null,
   "metadata": {},
   "outputs": [],
   "source": [
    "# Data split \n",
    "from sklearn.model_selection import train_test_split\n",
    "\n",
    "X_train, X_test, y_train, y_test = train_test_split(df_pca, \n",
    "                                                    y, \n",
    "                                                    random_state=42, \n",
    "                                                   )"
   ]
  },
  {
   "cell_type": "code",
   "execution_count": null,
   "metadata": {},
   "outputs": [],
   "source": [
    "# linear regression \n",
    "from sklearn.linear_model import LinearRegression\n",
    "model_lr = LinearRegression()\n",
    "model_lr.fit(X_train, y_train)\n",
    "predicted_lr = model_lr.predict(X_test)\n",
    "\n"
   ]
  },
  {
   "cell_type": "code",
   "execution_count": null,
   "metadata": {},
   "outputs": [],
   "source": [
    "# Linear Regression evaluation\n",
    "from sklearn.metrics import r2_score,mean_squared_error\n",
    "score_lr = model_lr.score(X_train, y_train, sample_weight=None)\n",
    "r2__lr = r2_score(y_test, predicted_lr)\n",
    "mse_lr = mean_squared_error(y_test\n",
    "                            , predicted_lr)\n",
    "rmse_lr = np.sqrt(mse_lr)"
   ]
  },
  {
   "cell_type": "code",
   "execution_count": null,
   "metadata": {},
   "outputs": [],
   "source": [
    "linear_reg = pd.DataFrame({'Model Score':score_lr,\"r2 stat\":r2__lr,'MSE':mse_lr,\"Root MSE\": rmse_lr },index=[0]).T\n",
    "linear_reg.columns = ['Metrics for linear regression']"
   ]
  },
  {
   "cell_type": "code",
   "execution_count": null,
   "metadata": {},
   "outputs": [],
   "source": [
    "linear_reg"
   ]
  },
  {
   "cell_type": "code",
   "execution_count": null,
   "metadata": {},
   "outputs": [],
   "source": [
    "plt.scatter(model_lr.predict(X_train), model_lr.predict(X_train) - y_train, c = \"blue\", label = \"training data\")\n",
    "plt.scatter(model_lr.predict(X_test), model_lr.predict(X_test) - y_test, c = \"orange\", label = \"testing data\")\n",
    "plt.title(\"Residual Plot\")\n",
    "plt.show()"
   ]
  },
  {
   "cell_type": "code",
   "execution_count": null,
   "metadata": {},
   "outputs": [],
   "source": []
  },
  {
   "cell_type": "code",
   "execution_count": null,
   "metadata": {},
   "outputs": [],
   "source": []
  },
  {
   "cell_type": "code",
   "execution_count": null,
   "metadata": {},
   "outputs": [],
   "source": [
    "#Decision Tree Regression\n",
    "model_dt = DecisionTreeRegressor(criterion='mse',splitter=\"best\")\n",
    "model_dt.fit(X_train,y_train)\n",
    "predicted_dt = model_dt.predict(X_test)\n"
   ]
  },
  {
   "cell_type": "code",
   "execution_count": null,
   "metadata": {},
   "outputs": [],
   "source": [
    "# Decision Tree evaluation\n",
    "score_dt = model_dt.score(X_train, y_train, sample_weight=None)\n",
    "r2__dt = r2_score(y_test, predicted_dt)\n",
    "mse_dt = mean_squared_error(y_test\n",
    "                            , predicted_dt)\n",
    "rmse_dt = np.sqrt(mse_dt)"
   ]
  },
  {
   "cell_type": "code",
   "execution_count": null,
   "metadata": {},
   "outputs": [],
   "source": [
    "dt_reg = pd.DataFrame({'Model Score':score_dt,\"r2 stat\":r2__dt,'MSE':mse_dt,\"Root MSE\": rmse_dt },index=[0]).T\n",
    "dt_reg.columns = ['Metrics for decision tree regression']"
   ]
  },
  {
   "cell_type": "code",
   "execution_count": null,
   "metadata": {},
   "outputs": [],
   "source": [
    "dt_reg"
   ]
  },
  {
   "cell_type": "code",
   "execution_count": null,
   "metadata": {},
   "outputs": [],
   "source": [
    "#Random Forest Regression\n",
    "model_rf = RandomForestRegressor(n_estimators= 100, criterion= \"mse\")\n",
    "model_rf.fit(X_train,y_train)\n",
    "predicted_rf= model_rf.predict(X_test)"
   ]
  },
  {
   "cell_type": "code",
   "execution_count": null,
   "metadata": {},
   "outputs": [],
   "source": [
    "# Random forest evaluation\n",
    "score_rf = model_rf.score(X_train, y_train, sample_weight=None)\n",
    "r2__rf = r2_score(y_test, predicted_rf)\n",
    "mse_rf = mean_squared_error(y_test\n",
    "                            , predicted_rf)\n",
    "rmse_rf = np.sqrt(mse_rf)"
   ]
  },
  {
   "cell_type": "code",
   "execution_count": null,
   "metadata": {},
   "outputs": [],
   "source": [
    "rf_reg = pd.DataFrame({'Model Score':score_rf,\"r2 stat\":r2__rf,'MSE':mse_rf,\"Root MSE\": rmse_rf },index=[0]).T\n",
    "rf_reg.columns = ['Metrics for  random forest regression']"
   ]
  },
  {
   "cell_type": "code",
   "execution_count": null,
   "metadata": {},
   "outputs": [],
   "source": [
    "rf_reg"
   ]
  },
  {
   "cell_type": "code",
   "execution_count": null,
   "metadata": {},
   "outputs": [],
   "source": [
    "#feature importance\n",
    "importance_df = pd.DataFrame(sorted(zip(model_rf.feature_importances_,X_train.columns),reverse = True))\n",
    "importance_df.set_index(importance_df[1],inplace = True)\n",
    "importance_df.drop(columns = 1,inplace = True)\n",
    "importance_df.rename(columns = {0: \"Feature Importance\"},inplace = True)\n",
    "importance_sorted = importance_df.sort_values(by=\"Feature Importance\")\n",
    "importance_sorted.plot(kind = \"bar\",title = 'Feature Importance',figsize = (12,8),rot = 360)"
   ]
  },
  {
   "cell_type": "code",
   "execution_count": null,
   "metadata": {},
   "outputs": [],
   "source": [
    "#GradientBoostingRegressor\n",
    "#choose learning rate\n",
    "learning_rates = [0.05,0.1,0.25,0.5,0.75,1]\n",
    "for learning_rate in learning_rates:\n",
    "    model = GradientBoostingRegressor(n_estimators=100,learning_rate = learning_rate,loss= 'ls')\n",
    "    model.fit(X_train,y_train)\n",
    "    print(\"Learning rate:\", learning_rate)\n",
    "    print(f\"Root mean squared error is {mean_squared_error(y_train,model.predict(X_train))}.\")"
   ]
  },
  {
   "cell_type": "code",
   "execution_count": null,
   "metadata": {},
   "outputs": [],
   "source": [
    "# Learning rate is equal to 0.25\n",
    "model_gb = GradientBoostingRegressor(n_estimators=100,learning_rate= 0.25, loss=\"ls\")\n",
    "model_gb.fit(X_train,y_train)\n",
    "predicted_gb = model_gb.predict(X_test)"
   ]
  },
  {
   "cell_type": "code",
   "execution_count": null,
   "metadata": {},
   "outputs": [],
   "source": [
    "# GradientBoosting evaluation\n",
    "score_gb = model_rf.score(X_train, y_train, sample_weight=None)\n",
    "r2__gb = r2_score(y_test, predicted_gb)\n",
    "mse_gb = mean_squared_error(y_test\n",
    "                            , predicted_gb)\n",
    "rmse_gb = np.sqrt(mse_gb)"
   ]
  },
  {
   "cell_type": "code",
   "execution_count": null,
   "metadata": {},
   "outputs": [],
   "source": [
    "gb_reg= pd.DataFrame({'Model Score':score_gb,\"r2 stat\":r2__gb,'MSE':mse_gb,\"Root MSE\": rmse_gb },index=[0]).T\n",
    "gb_reg.columns = ['Metrics for  gradient boosting  regression']"
   ]
  },
  {
   "cell_type": "code",
   "execution_count": null,
   "metadata": {},
   "outputs": [],
   "source": [
    "gb_reg"
   ]
  },
  {
   "cell_type": "code",
   "execution_count": null,
   "metadata": {},
   "outputs": [],
   "source": [
    "result = pd.concat([linear_reg,dt_reg,rf_reg,gb_reg],axis = 1 )"
   ]
  },
  {
   "cell_type": "code",
   "execution_count": null,
   "metadata": {},
   "outputs": [],
   "source": [
    "result"
   ]
  },
  {
   "cell_type": "code",
   "execution_count": null,
   "metadata": {},
   "outputs": [],
   "source": []
  },
  {
   "cell_type": "code",
   "execution_count": null,
   "metadata": {},
   "outputs": [],
   "source": []
  },
  {
   "cell_type": "code",
   "execution_count": null,
   "metadata": {},
   "outputs": [],
   "source": []
  },
  {
   "cell_type": "code",
   "execution_count": null,
   "metadata": {},
   "outputs": [],
   "source": []
  },
  {
   "cell_type": "code",
   "execution_count": null,
   "metadata": {},
   "outputs": [],
   "source": []
  },
  {
   "cell_type": "code",
   "execution_count": null,
   "metadata": {
    "jupyter": {
     "source_hidden": true
    }
   },
   "outputs": [],
   "source": []
  },
  {
   "cell_type": "code",
   "execution_count": null,
   "metadata": {},
   "outputs": [],
   "source": [
    "eco = X[['UnemploymentRate', 'NY_Empire',\n",
    "       'GDP']]"
   ]
  },
  {
   "cell_type": "code",
   "execution_count": null,
   "metadata": {},
   "outputs": [],
   "source": [
    "vis = pd.concat([eco,y],axis = 1)\n",
    "vis[['UnemploymentRate','Number_of_Incident']].plot(figsize = (12, 8))"
   ]
  },
  {
   "cell_type": "code",
   "execution_count": null,
   "metadata": {},
   "outputs": [],
   "source": [
    "vis[['NY_Empire','Number_of_Incident']].plot(figsize = (12, 8))"
   ]
  },
  {
   "cell_type": "code",
   "execution_count": null,
   "metadata": {},
   "outputs": [],
   "source": [
    "vis[['GDP','Number_of_Incident']].plot(figsize = (12, 8))"
   ]
  },
  {
   "cell_type": "code",
   "execution_count": null,
   "metadata": {},
   "outputs": [],
   "source": [
    "# Data split \n",
    "from sklearn.model_selection import train_test_split\n",
    "\n",
    "X_train, X_test, y_train, y_test = train_test_split(eco, \n",
    "                                                    y, \n",
    "                                                    random_state=42, test_size = 0.2\n",
    "                                                   )"
   ]
  },
  {
   "cell_type": "code",
   "execution_count": null,
   "metadata": {},
   "outputs": [],
   "source": [
    "# linear regression \n",
    "from sklearn.linear_model import LinearRegression\n",
    "model_lr = LinearRegression()\n",
    "model_lr.fit(X_train, y_train)\n",
    "predicted_lr = model_lr.predict(X_test)"
   ]
  },
  {
   "cell_type": "code",
   "execution_count": null,
   "metadata": {},
   "outputs": [],
   "source": [
    "# Linear Regression evaluation\n",
    "from sklearn.metrics import r2_score,mean_squared_error\n",
    "score_lr = model_lr.score(X_train, y_train, sample_weight=None)\n",
    "r2__lr = r2_score(y_test, predicted_lr)\n",
    "mse_lr = mean_squared_error(y_test\n",
    "                            , predicted_lr)\n",
    "rmse_lr = np.sqrt(mse_lr)"
   ]
  },
  {
   "cell_type": "code",
   "execution_count": null,
   "metadata": {},
   "outputs": [],
   "source": [
    "linear_reg = pd.DataFrame({'Model Score':score_lr,\"r2 stat\":r2__lr,'MSE':mse_lr,\"Root MSE\": rmse_lr },index=[0]).T\n",
    "linear_reg.columns = ['Metrics for linear regression']"
   ]
  },
  {
   "cell_type": "code",
   "execution_count": null,
   "metadata": {},
   "outputs": [],
   "source": [
    "linear_reg = pd.DataFrame({'Model Score':score_lr,\"r2 stat\":r2__lr,'MSE':mse_lr,\"Root MSE\": rmse_lr },index=[0]).T\n",
    "linear_reg.columns = ['Metrics for linear regression']"
   ]
  },
  {
   "cell_type": "code",
   "execution_count": null,
   "metadata": {},
   "outputs": [],
   "source": [
    "linear_reg"
   ]
  },
  {
   "cell_type": "code",
   "execution_count": null,
   "metadata": {
    "collapsed": true,
    "jupyter": {
     "outputs_hidden": true,
     "source_hidden": true
    }
   },
   "outputs": [],
   "source": []
  },
  {
   "cell_type": "code",
   "execution_count": null,
   "metadata": {},
   "outputs": [],
   "source": [
    "#Decision Tree Regression\n",
    "model_dt = DecisionTreeRegressor(criterion='mse',splitter=\"best\")\n",
    "model_dt.fit(X_train,y_train)\n",
    "predicted_dt = model_dt.predict(X_test)\n",
    "\n",
    "# Decision Tree evaluation\n",
    "score_dt = model_dt.score(X_train, y_train, sample_weight=None)\n",
    "r2__dt = r2_score(y_test, predicted_dt)\n",
    "mse_dt = mean_squared_error(y_test\n",
    "                            , predicted_dt)\n",
    "rmse_dt = np.sqrt(mse_dt)\n",
    "dt_reg = pd.DataFrame({'Model Score':score_dt,\"r2 stat\":r2__dt,'MSE':mse_dt,\"Root MSE\": rmse_dt },index=[0]).T\n",
    "dt_reg.columns = ['Metrics for decision tree regression']"
   ]
  },
  {
   "cell_type": "code",
   "execution_count": null,
   "metadata": {},
   "outputs": [],
   "source": [
    "#Random Forest Regression\n",
    "model_rf = RandomForestRegressor(n_estimators= 100, criterion= \"mse\")\n",
    "model_rf.fit(X_train,y_train)\n",
    "predicted_rf= model_rf.predict(X_test)\n",
    "\n",
    "# Random forest evaluation\n",
    "score_rf = model_rf.score(X_train, y_train, sample_weight=None)\n",
    "r2__rf = r2_score(y_test, predicted_rf)\n",
    "mse_rf = mean_squared_error(y_test\n",
    "                            , predicted_rf)\n",
    "rmse_rf = np.sqrt(mse_rf)\n",
    "rf_reg = pd.DataFrame({'Model Score':score_rf,\"r2 stat\":r2__rf,'MSE':mse_rf,\"Root MSE\": rmse_rf },index=[0]).T\n",
    "rf_reg.columns = ['Metrics for  random forest regression']"
   ]
  },
  {
   "cell_type": "code",
   "execution_count": null,
   "metadata": {},
   "outputs": [],
   "source": [
    "#feature importance\n",
    "importance_df = pd.DataFrame(sorted(zip(model_rf.feature_importances_,X_train.columns),reverse = True))\n",
    "importance_df.set_index(importance_df[1],inplace = True)\n",
    "importance_df.drop(columns = 1,inplace = True)\n",
    "importance_df.rename(columns = {0: \"Feature Importance\"},inplace = True)\n",
    "importance_sorted = importance_df.sort_values(by=\"Feature Importance\")\n",
    "importance_sorted.plot(kind = \"bar\",title = 'Feature Importance',figsize = (12,8),rot = 360)"
   ]
  },
  {
   "cell_type": "code",
   "execution_count": null,
   "metadata": {},
   "outputs": [],
   "source": [
    "result = pd.concat([linear_reg,dt_reg,rf_reg],axis = 1 )"
   ]
  },
  {
   "cell_type": "code",
   "execution_count": null,
   "metadata": {},
   "outputs": [],
   "source": [
    "result"
   ]
  },
  {
   "cell_type": "code",
   "execution_count": null,
   "metadata": {},
   "outputs": [],
   "source": []
  },
  {
   "cell_type": "code",
   "execution_count": null,
   "metadata": {},
   "outputs": [],
   "source": []
  },
  {
   "cell_type": "code",
   "execution_count": null,
   "metadata": {},
   "outputs": [],
   "source": []
  },
  {
   "cell_type": "code",
   "execution_count": null,
   "metadata": {},
   "outputs": [],
   "source": []
  },
  {
   "cell_type": "code",
   "execution_count": null,
   "metadata": {},
   "outputs": [],
   "source": []
  },
  {
   "cell_type": "code",
   "execution_count": null,
   "metadata": {},
   "outputs": [],
   "source": []
  },
  {
   "cell_type": "code",
   "execution_count": null,
   "metadata": {},
   "outputs": [],
   "source": []
  },
  {
   "cell_type": "code",
   "execution_count": null,
   "metadata": {},
   "outputs": [],
   "source": []
  },
  {
   "cell_type": "code",
   "execution_count": null,
   "metadata": {},
   "outputs": [],
   "source": []
  },
  {
   "cell_type": "code",
   "execution_count": null,
   "metadata": {},
   "outputs": [],
   "source": []
  }
 ],
 "metadata": {
  "kernelspec": {
   "display_name": "Python 3",
   "language": "python",
   "name": "python3"
  },
  "language_info": {
   "codemirror_mode": {
    "name": "ipython",
    "version": 3
   },
   "file_extension": ".py",
   "mimetype": "text/x-python",
   "name": "python",
   "nbconvert_exporter": "python",
   "pygments_lexer": "ipython3",
   "version": "3.7.6"
  }
 },
 "nbformat": 4,
 "nbformat_minor": 4
}
